{
  "nbformat": 4,
  "nbformat_minor": 0,
  "metadata": {
    "colab": {
      "provenance": [],
      "authorship_tag": "ABX9TyP/hUG7+kVsyJjLqRboLZGL",
      "include_colab_link": true
    },
    "kernelspec": {
      "name": "python3",
      "display_name": "Python 3"
    },
    "language_info": {
      "name": "python"
    }
  },
  "cells": [
    {
      "cell_type": "markdown",
      "metadata": {
        "id": "view-in-github",
        "colab_type": "text"
      },
      "source": [
        "<a href=\"https://colab.research.google.com/github/h7ty56/Python1/blob/main/OOPS.ipynb\" target=\"_parent\"><img src=\"https://colab.research.google.com/assets/colab-badge.svg\" alt=\"Open In Colab\"/></a>"
      ]
    },
    {
      "cell_type": "markdown",
      "source": [
        "THEORY QUESTIONS"
      ],
      "metadata": {
        "id": "rKoPHBBfq7h-"
      }
    },
    {
      "cell_type": "code",
      "execution_count": null,
      "metadata": {
        "id": "co7jDaSbq2_r"
      },
      "outputs": [],
      "source": [
        "## QUES 1) What is Object-Oriented Programming (OOP)?"
      ]
    },
    {
      "cell_type": "markdown",
      "source": [
        "Object-Oriented Programming (OOP) is a programming paradigm based on the concept of \"objects.\" These objects represent real-world entities and are designed to contain both data (attributes) and functionality (methods) that operate on that data. This approach allows for better organization, modularity, and reusability in programming.\n",
        "\n",
        "Key Principles of OOP:\n",
        "Encapsulation: Objects bundle data and methods together, restricting direct access to some components to protect the integrity of the data.\n",
        "\n",
        "Inheritance: One class (child) can inherit properties and methods from another class (parent), promoting code reusability.\n",
        "\n",
        "Polymorphism: Objects or methods can take on multiple forms, allowing for the same operation to behave differently in different contexts.\n",
        "\n",
        "Abstraction: Hiding complex implementation details while exposing only the necessary functionality, making code easier to use and maintain.\n",
        "\n",
        "Languages like Java, Python, C++, and C# are popular for OOP. It's widely used in software development for creating scalable and maintainable applications."
      ],
      "metadata": {
        "id": "NKKNGNLEug1H"
      }
    },
    {
      "cell_type": "code",
      "source": [
        "## QUES 2) What is a class in OOP?"
      ],
      "metadata": {
        "id": "gvmidgtuw95c"
      },
      "execution_count": null,
      "outputs": []
    },
    {
      "cell_type": "markdown",
      "source": [
        "A class in Object-Oriented Programming (OOP) is a blueprint or template for creating objects. It defines the structure and behavior that the objects created from it will have. Essentially, a class specifies the properties (attributes) and actions (methods) that its objects can possess or perform.Key Features of a Class:\n",
        "Attributes: Variables that hold data about the object. For example, if you have a Car class, attributes could include color, model, and speed.\n",
        "\n",
        "Methods: Functions defined in the class that describe the behavior or actions of the object. For instance, the Car class could have methods like drive() or brake().\n",
        "\n",
        "Instantiation: Using a class to create an object is called instantiation. Each object created from a class is called an instance.\n",
        "for example: class Car:\n",
        "    def __init__(self, color, model):\n",
        "        self.color = color  # Attribute\n",
        "        self.model = model  # Attribute\n",
        "\n",
        "    def drive(self):  # Method\n",
        "        print(f\"The {self.color} {self.model} is driving!\")\n",
        "# Creating an object (instance) of the Car class\n",
        "my_car = Car(\"red\", \"Toyota\")\n",
        "my_car.drive()\n",
        "In this example, Car is the class, and my_car is an instance of that class.\n"
      ],
      "metadata": {
        "id": "-No4ahv3xQOp"
      }
    },
    {
      "cell_type": "code",
      "source": [
        "## QUES 3) What is an object in OOP?"
      ],
      "metadata": {
        "id": "OL1H6zsxxGAs"
      },
      "execution_count": null,
      "outputs": []
    },
    {
      "cell_type": "markdown",
      "source": [
        "An object in Object-Oriented Programming (OOP) is an instance of a class. Think of it as a specific, tangible representation of the blueprint (class) you created. Objects are the fundamental building blocks in OOP, combining data (attributes) and behavior (methods) into a single entity.\n",
        "\n",
        "Key Characteristics of an Object:\n",
        "Identity: Each object has a unique identity that distinguishes it from other objects, even if they belong to the same class.\n",
        "\n",
        "Attributes: These are the properties or data stored in the object. For example, a Car object might have attributes like color or model.\n",
        "\n",
        "Methods: These are the actions or functions that the object can perform. For example, a Car object might have methods like drive() or stop().\n",
        "class Dog:\n",
        "    def __init__(self, name, breed):\n",
        "        self.name = name  # Attribute\n",
        "        self.breed = breed  # Attribute\n",
        "\n",
        "    def bark(self):  # Method\n",
        "        print(f\"{self.name} is barking!\")\n",
        "\n",
        "#Creating an object (instance) of the Dog class\n",
        "my_dog = Dog(\"Buddy\", \"Golden Retriever\")\n",
        "print(my_dog.name)  # Accessing an attribute\n",
        "my_dog.bark()       # Calling a method\n",
        "In this example:\n",
        "\n",
        "Dog is the class.\n",
        "\n",
        "my_dog is an object, an instance of the Dog class.\n",
        "\n",
        "The attributes of the object are name (Buddy) and breed (Golden Retriever).\n",
        "\n",
        "The method bark() defines the behavior of the object.\n"
      ],
      "metadata": {
        "id": "tYk9do2DywA5"
      }
    },
    {
      "cell_type": "code",
      "source": [
        "## QUES 4)What is the difference between abstraction and encapsulation?"
      ],
      "metadata": {
        "id": "wc0CXEzf0aJd"
      },
      "execution_count": null,
      "outputs": []
    },
    {
      "cell_type": "markdown",
      "source": [
        "Abstraction and encapsulation are two fundamental concepts in Object-Oriented Programming (OOP). While they are related and often complement each other, they serve different purposes. Here's a breakdown of the differences:\n",
        "\n",
        "Abstraction\n",
        "Definition: Abstraction focuses on hiding complexity by exposing only the essential features and functionalities to the user while keeping the implementation details hidden.\n",
        "Goal: To simplify interactions with objects or systems by providing a clear interface.\n",
        "How It's Achieved: Through abstract classes, interfaces, or methods in OOP.\n",
        "Focus: Hides the what (details of what an object can do) but doesn't concern itself with securing the underlying data.\n",
        "Example: When you use an ATM, you only interact with a simple interface (insert card, enter PIN, withdraw cash) without knowing the technical details of how the machine works internally.\n",
        "Encapsulation\n",
        "Definition: Encapsulation is the process of hiding data within an object and restricting access to it, allowing modifications only through controlled mechanisms (e.g., getters and setters).\n",
        "\n",
        "Goal: To protect and secure data from unintended interference and misuse.\n",
        "How It's Achieved: By using access specifiers (like private, protected, public) in OOP.\n",
        "Focus: Hides the how (details of how data is stored or manipulated within an object).\n",
        "Example: A class BankAccount may store sensitive data such as balance as a private attribute and provide methods like deposit() or withdraw() to control how it is accessed or modified.\n",
        "In summary, abstraction helps with designing a cleaner interface, while encapsulation ensures the secure handling of data within that interface."
      ],
      "metadata": {
        "id": "dlSesSsE0yJs"
      }
    },
    {
      "cell_type": "code",
      "source": [
        "## QUES 5) What are dunder methods in Python?"
      ],
      "metadata": {
        "id": "pnlBGFIv1kQr"
      },
      "execution_count": null,
      "outputs": []
    },
    {
      "cell_type": "markdown",
      "source": [
        "Dunder methods (short for \"double underscore methods\"), also known as magic methods or special methods, are predefined methods in Python that have double underscores at the beginning and end of their names (e.g., __init__, __str__). These methods allow you to define the behavior of your objects in certain scenarios, such as how they should be represented as strings, compared, or initialized.\n",
        "\n",
        "Common Dunder Methods:\n",
        "1)__init__: Initializes an object when it is created.\n",
        "class Person:\n",
        "    def __init__(self, name):\n",
        "        self.name = name\n",
        "\n",
        "p = Person(\"Alice\")\n",
        "print(p.name)  # Output: Alice\n",
        "2)__str__: Defines how the object is represented as a string (e.g., when you use print()).\n",
        "class Person:\n",
        "    def __init__(self, name):\n",
        "        self.name = name\n",
        "\n",
        "    def __str__(self):\n",
        "        return f\"Person named {self.name}\"\n",
        "\n",
        "p = Person(\"Alice\")\n",
        "print(p)  # Output: Person named Alice\n",
        "3)__add__: Implements the behavior of the + operator for objects.\n",
        "class Number:\n",
        "    def __init__(self, value):\n",
        "        self.value = value\n",
        "\n",
        "    def __add__(self, other):\n",
        "        return self.value + other.value\n",
        "\n",
        "n1 = Number(5)\n",
        "n2 = Number(10)\n",
        "print(n1 + n2)  # Output: 15\n",
        "4)__len__: Defines behavior for the len() function.\n",
        "class MyList:\n",
        "    def __init__(self, items):\n",
        "        self.items = items\n",
        "\n",
        "    def __len__(self):\n",
        "        return len(self.items)\n",
        "\n",
        "lst = MyList([1, 2, 3])\n",
        "print(len(lst))  # Output: 3\n",
        "5)__eq__: Implements equality comparison (==) between objects.\n",
        "class Person:\n",
        "    def __init__(self, name):\n",
        "        self.name = name\n",
        "\n",
        "    def __eq__(self, other):\n",
        "        return self.name == other.name\n",
        "\n",
        "p1 = Person(\"Alice\")\n",
        "p2 = Person(\"Alice\")\n",
        "print(p1 == p2)  # Output: True\n",
        "\n",
        "\n",
        "\n"
      ],
      "metadata": {
        "id": "4J1DLqwC12HR"
      }
    },
    {
      "cell_type": "code",
      "source": [
        "## QUES 6)  Explain the concept of inheritance in OOP."
      ],
      "metadata": {
        "id": "BjwWILJT234R"
      },
      "execution_count": null,
      "outputs": []
    },
    {
      "cell_type": "markdown",
      "source": [
        "Inheritance is a key concept in Object-Oriented Programming (OOP) that allows a class (called the child class or subclass) to inherit properties and behaviors from another class (called the parent class or superclass). This mechanism promotes code reuse and hierarchical classification, making programs easier to understand, extend, and maintain.\n",
        "Key Features of Inheritance:\n",
        "Code Reusability: Common functionality can be written in a parent class and reused in child classes.\n",
        "\n",
        "Hierarchical Structure: Helps model real-world relationships, like \"is-a\" relationships (e.g., a Dog is a Mammal).\n",
        "\n",
        "Extensibility: Child classes can add their own unique properties and methods while inheriting others from the parent class.\n",
        "\n",
        "Overriding: Child classes can override methods of the parent class to provide specific implementations.\n",
        "\n",
        "Types of Inheritance:\n",
        "Single Inheritance: A child class inherits from one parent class.\n",
        "class Animal:\n",
        "    def eat(self):\n",
        "        print(\"This animal eats food.\")\n",
        "\n",
        "class Dog(Animal):  # Dog inherits from Animal\n",
        "    def bark(self):\n",
        "        print(\"The dog barks.\")\n",
        "\n",
        "d = Dog()\n",
        "d.eat()  # Output: This animal eats food.\n",
        "d.bark()  # Output: The dog barks.\n",
        "Multiple Inheritance: A child class inherits from more than one parent class.\n",
        "class A:\n",
        "    def method_a(self):\n",
        "        print(\"Method from class A.\")\n",
        "\n",
        "class B:\n",
        "    def method_b(self):\n",
        "        print(\"Method from class B.\")\n",
        "\n",
        "class C(A, B):  # C inherits from A and B\n",
        "    pass\n",
        "\n",
        "c = C()\n",
        "c.method_a()  # Output: Method from class A.\n",
        "c.method_b()  # Output: Method from class B.\n",
        "Multilevel Inheritance: A child class inherits from a parent class, which itself inherits from another class.\n",
        "class Animal:\n",
        "    def eat(self):\n",
        "        print(\"This animal eats food.\")\n",
        "\n",
        "class Mammal(Animal):\n",
        "    def walk(self):\n",
        "        print(\"This mammal walks.\")\n",
        "\n",
        "class Dog(Mammal):\n",
        "    def bark(self):\n",
        "        print(\"The dog barks.\")\n",
        "\n",
        "d = Dog()\n",
        "d.eat()   # Output: This animal eats food.\n",
        "d.walk()  # Output: This mammal walks.\n",
        "d.bark()  # Output: The dog barks.\n",
        "Hierarchical Inheritance: Multiple child classes inherit from a single parent class.\n",
        "class Animal:\n",
        "    def eat(self):\n",
        "        print(\"This animal eats food.\")\n",
        "\n",
        "class Dog(Animal):\n",
        "    def bark(self):\n",
        "        print(\"The dog barks.\")\n",
        "\n",
        "class Cat(Animal):\n",
        "    def meow(self):\n",
        "        print(\"The cat meows.\")\n",
        "\n",
        "dog = Dog()\n",
        "dog.eat()  # Output: This animal eats food.\n",
        "dog.bark()  # Output: The dog barks.\n",
        "\n",
        "cat = Cat()\n",
        "cat.eat()  # Output: This animal eats food.\n",
        "cat.meow()  # Output: The cat meows.\n",
        "Hybrid Inheritance: A combination of two or more types of inheritance. It may involve multiple and multilevel inheritance.\n"
      ],
      "metadata": {
        "id": "hvGDiK7U3Arj"
      }
    },
    {
      "cell_type": "code",
      "source": [
        "## QUES 7) What is polymorphism in OOP?"
      ],
      "metadata": {
        "id": "AeVpBC0k4xDp"
      },
      "execution_count": null,
      "outputs": []
    },
    {
      "cell_type": "markdown",
      "source": [
        "what is polymorphism in OOP?\n",
        "Polymorphism in Object-Oriented Programming (OOP) is the ability of objects to take on multiple forms. It allows the same operation or method to behave differently based on the object it is acting upon. This makes programs more flexible, reusable, and easier to scale.\n",
        "\n",
        "Key Types of Polymorphism:\n",
        "Compile-Time Polymorphism (Static Binding):\n",
        "\n",
        "Achieved using method overloading.\n",
        "\n",
        "Involves defining multiple methods with the same name but different parameters within the same class.\n",
        "\n",
        "Example in Python:\n",
        "class Math:\n",
        "    def add(self, a, b):\n",
        "        return a + b\n",
        "\n",
        "    def add(self, a, b, c=0):  # Overloaded method\n",
        "        return a + b + c\n",
        "\n",
        "m = Math()\n",
        "print(m.add(2, 3, 4))  # Output: 9\n",
        "Run-Time Polymorphism (Dynamic Binding):\n",
        "\n",
        "Achieved using method overriding.\n",
        "\n",
        "Allows a child class to provide a specific implementation of a method that is already defined in its parent class.\n",
        "\n",
        "Example in Python:\n",
        "class Animal:\n",
        "    def sound(self):\n",
        "        print(\"This animal makes a sound.\")\n",
        "\n",
        "class Dog(Animal):\n",
        "    def sound(self):  # Method overriding\n",
        "        print(\"The dog barks.\")\n",
        "\n",
        "a = Animal()\n",
        "a.sound()  # Output: This animal makes a sound.\n",
        "\n",
        "d = Dog()\n",
        "d.sound()  # Output: The dog barks.\n",
        "Key Benefits of Polymorphism:\n",
        "Code Reusability: Reduces redundancy by using a single interface for different data types or methods.\n",
        "\n",
        "Extensibility: Allows classes to define new behaviors while maintaining a common structure.\n",
        "\n",
        "Flexibility: Provides the ability to define generic interfaces, making code easier to extend or modify.\n",
        "\n"
      ],
      "metadata": {
        "id": "wsJB5-0X561c"
      }
    },
    {
      "cell_type": "code",
      "source": [
        "## QUES 8) How is encapsulation achieved in Python?"
      ],
      "metadata": {
        "id": "-4fj12lE5Ij-"
      },
      "execution_count": null,
      "outputs": []
    },
    {
      "cell_type": "markdown",
      "source": [
        "Encapsulation in Python is achieved by restricting direct access to an object's data (attributes) and providing controlled access through methods. This is typically implemented using access modifiers such as private, protected, and public attributes, along with getter and setter methods.\n",
        "\n",
        "Key Steps to Achieve Encapsulation:\n",
        "Define Attributes with Access Control:\n",
        "\n",
        "In Python, attributes are public by default. However, you can make them \"private\" or \"protected\" by using underscores:\n",
        "\n",
        "Public: Accessible from anywhere (self.attribute).\n",
        "\n",
        "Protected: Indicated by a single underscore (self._attribute); a convention to signal limited access.\n",
        "\n",
        "Private: Indicated by double underscores (self.__attribute); restricts access to the class itself. example:\n",
        "class Person:\n",
        "    def __init__(self, name, age):\n",
        "        self.__name = name  # Private attribute\n",
        "        self.__age = age    # Private attribute\n",
        "\n",
        "    # Getter for name\n",
        "    def get_name(self):\n",
        "        return self.__name\n",
        "\n",
        "    # Setter for name\n",
        "    def set_name(self, name):\n",
        "        self.__name = name\n",
        "\n",
        "    # Getter for age\n",
        "    def get_age(self):\n",
        "        return self.__age\n",
        "\n",
        "    # Setter for age\n",
        "    def set_age(self, age):\n",
        "        if age > 0:  # Ensures only valid age values are set\n",
        "            self.__age = age\n",
        "        else:\n",
        "            print(\"Invalid age\")\n",
        "\n",
        "# Create an object\n",
        "person = Person(\"Alice\", 25)\n",
        "\n",
        "# Access and modify attributes using getters and setters\n",
        "print(person.get_name())  # Output: Alice\n",
        "person.set_age(30)        # Update age\n",
        "print(person.get_age())   # Output: 30\n"
      ],
      "metadata": {
        "id": "UaeTyUWW7VvU"
      }
    },
    {
      "cell_type": "code",
      "source": [
        "## QUES 9) What is a constructor in Python?"
      ],
      "metadata": {
        "id": "pLqCji3q5SFU"
      },
      "execution_count": null,
      "outputs": []
    },
    {
      "cell_type": "markdown",
      "source": [
        "A constructor in Python is a special method used to initialize an object's attributes when the object is created. In Python, the constructor method is defined using the __init__ method, which is automatically called when an object is instantiated from a class. This is part of Python's object-oriented programming features.\n",
        "\n",
        "Key Points About Constructors:\n",
        "Purpose: To initialize the attributes of an object with default or user-specified values.\n",
        "Syntax:\n",
        "\n",
        "It always has the name __init__ and starts with self as the first parameter.\n",
        "\n",
        "The self parameter refers to the instance being created.\n",
        "for example:\n",
        "class Person:\n",
        "    def __init__(self, name, age):\n",
        "        self.name = name  # Attribute initialization\n",
        "        self.age = age    # Attribute initialization\n",
        "\n",
        "    def introduce(self):\n",
        "        print(f\"My name is {self.name} and I am {self.age} years old.\")\n",
        "\n",
        "# Creating an object (instantiating the class)\n",
        "p = Person(\"Alice\", 25)  # The __init__ method is called automatically\n",
        "p.introduce()  # Output: My name is Alice and I am 25 years old.\n",
        "Types of Constructors:\n",
        "Default Constructor: A constructor without any arguments except self. It initializes attributes with default values.\n",
        "Parameterized Constructor: A constructor that takes arguments to initialize attributes with user-specified values."
      ],
      "metadata": {
        "id": "DPrJqsgC7lfC"
      }
    },
    {
      "cell_type": "code",
      "source": [
        "## QUES 10) What are class and static methods in Python?"
      ],
      "metadata": {
        "id": "St6_uU_X5hqm"
      },
      "execution_count": null,
      "outputs": []
    },
    {
      "cell_type": "markdown",
      "source": [
        "In Python, class methods and static methods are types of methods defined within a class, and they serve different purposes.\n",
        "Class Methods\n",
        "Definition: A method that operates on the class itself rather than on an instance of the class. It can modify or access class-level attributes but not instance-specific attributes.\n",
        "\n",
        "Decorator: @classmethod\n",
        "\n",
        "First Parameter: The first parameter is cls, which refers to the class itself (instead of self, which refers to an instance).\n",
        "\n",
        "Usage: Useful for creating factory methods, accessing class variables, or methods that affect the class as a whole.\n",
        "\n",
        "Example:\n",
        "class Employee:\n",
        "    raise_percent = 1.05  # Class attribute\n",
        "\n",
        "    def __init__(self, name, salary):\n",
        "        self.name = name\n",
        "        self.salary = salary\n",
        "\n",
        "    @classmethod\n",
        "    def set_raise_percent(cls, percent):\n",
        "        cls.raise_percent = percent  # Modify class attribute\n",
        "\n",
        "    @classmethod\n",
        "    def from_string(cls, emp_str):  # Factory method\n",
        "        name, salary = emp_str.split('-')\n",
        "        return cls(name, float(salary))\n",
        "\n",
        "# Modify class attribute using a class method\n",
        "Employee.set_raise_percent(1.10)\n",
        "\n",
        "# Create an instance using a factory method\n",
        "emp = Employee.from_string(\"Alice-50000\")\n",
        "print(emp.raise_percent)  # Output: 1.10\n",
        "Static Methods\n",
        "Definition: A method that does not depend on either the class (cls) or an instance (self). It is more like a regular function, but it's logically grouped within a class.\n",
        "\n",
        "Decorator: @staticmethod\n",
        "\n",
        "First Parameter: No cls or self parameter is needed.\n",
        "\n",
        "Usage: Useful for utility functions that are relevant to the class but do not require access to class or instance data.\n",
        "class MathOperations:\n",
        "    @staticmethod\n",
        "    def add_numbers(a, b):\n",
        "        return a + b\n",
        "\n",
        "    @staticmethod\n",
        "    def multiply_numbers(a, b):\n",
        "        return a * b\n",
        "\n",
        "# Call static methods without creating an instance\n",
        "print(MathOperations.add_numbers(5, 3))      # Output: 8\n",
        "print(MathOperations.multiply_numbers(5, 3)) # Output: 15\n",
        "In summary:\n",
        "\n",
        "Use class methods when you need to interact with the class as a whole.\n",
        "\n",
        "Use static methods for utility functions that are logically tied to the class.\n"
      ],
      "metadata": {
        "id": "ExD1W6VH8cKM"
      }
    },
    {
      "cell_type": "code",
      "source": [
        "## QUES 11) What is method overloading in Python?"
      ],
      "metadata": {
        "id": "fogGThyO5xyU"
      },
      "execution_count": null,
      "outputs": []
    },
    {
      "cell_type": "markdown",
      "source": [
        "In Python, method overloading refers to the ability to define multiple methods with the same name in a class but with different numbers or types of parameters. While many other programming languages (like Java or C++) natively support method overloading, Python handles it differently because it doesn’t support traditional overloading.\n",
        "\n",
        "In Python, if you define multiple methods with the same name in a class, the last definition will overwrite the previous ones. However, you can simulate method overloading using techniques like default arguments, variable arguments (*args or **kwargs), or by explicitly checking the types or number of arguments.\n",
        "\n",
        "Example: Using Default Arguments\n",
        "class Example:\n",
        "    def greet(self, name=None):\n",
        "        if name:\n",
        "            print(f\"Hello, {name}!\")\n",
        "        else:\n",
        "            print(\"Hello, world!\")\n",
        "\n",
        "obj = Example()\n",
        "obj.greet()          # Output: Hello, world!\n",
        "obj.greet(\"Alice\")   # Output: Hello, Alice!\n",
        "Example: Using Variable Arguments\n",
        "class Calculator:\n",
        "    def add(self, *numbers):\n",
        "        return sum(numbers)\n",
        "\n",
        "calc = Calculator()\n",
        "print(calc.add(2, 3))          # Output: 5\n",
        "print(calc.add(1, 2, 3, 4))    # Output: 10\n",
        "Example: Checking the Number or Types of Arguments\n",
        "class Operation:\n",
        "    def execute(self, a, b=None):\n",
        "        if b is not None:\n",
        "            return a + b  # Handles two arguments\n",
        "        return a * a  # Handles one argument\n",
        "\n",
        "op = Operation()\n",
        "print(op.execute(5))       # Output: 25 (square of 5)\n",
        "print(op.execute(5, 10))   # Output: 15 (sum of 5 and 10)\n",
        "Python's dynamic and flexible nature allows these patterns to achieve method overloading-like behavior without needing explicit method definitions with varying parameters. Its approach is simpler and more \"Pythonic.\""
      ],
      "metadata": {
        "id": "fdKP8oRV8v_B"
      }
    },
    {
      "cell_type": "code",
      "source": [
        "## QUES 12) What is method overriding in OOP?"
      ],
      "metadata": {
        "id": "iGHg59f99WmA"
      },
      "execution_count": null,
      "outputs": []
    },
    {
      "cell_type": "markdown",
      "source": [
        "Method overriding in Object-Oriented Programming (OOP) occurs when a child class provides a specific implementation of a method that is already defined in its parent class. This allows the child class to modify or extend the behavior of the inherited method.\n",
        "\n",
        "Key Features of Method Overriding:\n",
        "Same Method Signature: The overridden method in the child class must have the same name, return type, and parameters as the method in the parent class.\n",
        "\n",
        "Inheritance: Method overriding happens in the context of inheritance, where a child class inherits from a parent class.\n",
        "\n",
        "Runtime Polymorphism: Overriding is a key aspect of polymorphism, as the method to be executed is determined at runtime based on the object being referenced.\n",
        "\n",
        "Purpose of Method Overriding:\n",
        "To customize or extend the behavior of a parent class method.\n",
        "\n",
        "To define specific behavior for the child class while maintaining a consistent method interface.\n",
        "for example:\n",
        "class Animal:\n",
        "    def sound(self):\n",
        "        print(\"This animal makes a sound.\")\n",
        "\n",
        "class Dog(Animal):  # Dog inherits from Animal\n",
        "    def sound(self):  # Overriding the parent class method\n",
        "        print(\"The dog barks.\")\n",
        "\n",
        "class Cat(Animal):  # Cat inherits from Animal\n",
        "    def sound(self):  # Overriding the parent class method\n",
        "        print(\"The cat meows.\")\n",
        "\n",
        "# Instances\n",
        "animal = Animal()\n",
        "dog = Dog()\n",
        "cat = Cat()\n",
        "\n",
        "# Method calls\n",
        "animal.sound()  # Output: This animal makes a sound.\n",
        "dog.sound()     # Output: The dog barks.\n",
        "cat.sound()     # Output: The cat meows.\n"
      ],
      "metadata": {
        "id": "WvU4Qv5HBZwM"
      }
    },
    {
      "cell_type": "code",
      "source": [
        "## QUES 13) What is a property decorator in Python?"
      ],
      "metadata": {
        "id": "OCYDLuG59n6Y"
      },
      "execution_count": null,
      "outputs": []
    },
    {
      "cell_type": "markdown",
      "source": [
        "The @property decorator in Python is a built-in feature that allows you to define methods in a class that can be accessed like attributes. It's often used to implement getter, setter, and deleter methods in a clean and concise way, without explicitly calling the method. This makes your class attributes more versatile and easier to manage, while maintaining encapsulation.\n",
        "\n",
        "How @property Works:\n",
        "It transforms a method into a \"read-only\" attribute by default (a getter).\n",
        "\n",
        "You can extend it by adding a setter or deleter for the property.\n",
        "\n",
        "It allows for controlled access to attributes, making it useful for validation or computed properties.\n",
        "Basic Example of @property:\n",
        "class Circle:\n",
        "    def __init__(self, radius):\n",
        "        self._radius = radius  # Private attribute\n",
        "\n",
        "    @property\n",
        "    def radius(self):  # Getter method\n",
        "        return self._radius\n",
        "\n",
        "    @radius.setter\n",
        "    def radius(self, value):  # Setter method\n",
        "        if value >= 0:\n",
        "            self._radius = value\n",
        "        else:\n",
        "            raise ValueError(\"Radius must be non-negative\")\n",
        "\n",
        "c = Circle(5)\n",
        "print(c.radius)  # Access as an attribute, Output: 5\n",
        "\n",
        "c.radius = 10    # Update using the setter\n",
        "print(c.radius)  # Output: 10\n",
        "\n",
        "c.radius = -3    # Raises ValueError\n",
        "Explanation:\n",
        "The @property decorator turns the radius() method into a getter.\n",
        "\n",
        "The @radius.setter decorator allows the radius property to have a custom setter, which checks if the value is valid before updating it.\n",
        "\n",
        "The user interacts with radius like an attribute (e.g., c.radius), but under the hood, the getter or setter is called."
      ],
      "metadata": {
        "id": "rraHgWh1FhhJ"
      }
    },
    {
      "cell_type": "code",
      "source": [
        "## QUES 14) Why is polymorphism important in OOP?"
      ],
      "metadata": {
        "id": "A8RJG2IB9xDG"
      },
      "execution_count": null,
      "outputs": []
    },
    {
      "cell_type": "markdown",
      "source": [
        "Polymorphism is a cornerstone of Object-Oriented Programming (OOP) because it enhances the flexibility, scalability, and readability of code. Its importance lies in how it enables objects of different classes to be treated as objects of a common superclass, allowing for dynamic and interchangeable behavior. Here’s why polymorphism is so valuable in OOP:\n",
        "Code Reusability and Maintainability:\n",
        "\n",
        "Polymorphism allows you to define a generic interface in a parent class, and the child classes can implement their specific behavior. This reduces duplication and makes the code easier to maintain.\n",
        "\n",
        "Example: A generic Shape class might have a method area(), which is implemented differently in subclasses like Circle or Rectangle.\n",
        "\n",
        "Dynamic Behavior (Runtime Flexibility):\n",
        "\n",
        "Polymorphism allows the program to decide at runtime which implementation of a method to call. This is vital for creating flexible and extensible applications.\n",
        "\n",
        "Example: A list of Animal objects can include Dog, Cat, or Bird, and calling make_sound() on each object will produce the appropriate result based on the specific class.\n",
        "\n",
        "Scalability:\n",
        "\n",
        "New behaviors can be easily added by creating additional subclasses without modifying the existing code. This makes applications more scalable.\n",
        "\n",
        "Example: A new Triangle subclass can be introduced to the Shape hierarchy without changing the rest of the codebase.\n",
        "\n",
        "Abstraction and Modularity:\n",
        "\n",
        "Polymorphism hides the implementation details and encourages modular design by working through a common interface. This improves the clarity of code.\n",
        "\n",
        "Example: You can sort a collection of different objects, like Employee or Student, using a common interface to compare attributes.\n",
        "\n",
        "Improved Collaboration:\n",
        "\n",
        "In large-scale projects, polymorphism allows developers to work independently on different parts of the application by relying on predefined interfaces or abstract classes."
      ],
      "metadata": {
        "id": "s5TooxPjJRK5"
      }
    },
    {
      "cell_type": "code",
      "source": [
        "## QUES 15) What is an abstract class in Python?"
      ],
      "metadata": {
        "id": "ZRlx6aSoJ0dQ"
      },
      "execution_count": null,
      "outputs": []
    },
    {
      "cell_type": "markdown",
      "source": [
        "An abstract class in Python is a class that serves as a blueprint for other classes. It cannot be instantiated directly, and it often includes one or more abstract methods that must be implemented by its child classes. Abstract classes are used to define a common interface or structure for a group of related classes while enforcing that specific methods are implemented in the subclasses. for example:\n",
        "from abc import ABC, abstractmethod\n",
        "\n",
        "class Animal(ABC):  # Abstract class inheriting from ABC\n",
        "    @abstractmethod\n",
        "    def sound(self):  # Abstract method\n",
        "        pass\n",
        "\n",
        "    def sleep(self):  # Concrete method\n",
        "        print(\"This animal is sleeping.\")\n",
        "\n",
        "class Dog(Animal):  # Subclass of Animal\n",
        "    def sound(self):  # Implementation of the abstract method\n",
        "        print(\"Bark!\")\n",
        "\n",
        "class Cat(Animal):  # Subclass of Animal\n",
        "    def sound(self):\n",
        "        print(\"Meow!\")\n",
        "\n",
        "# Instantiation of abstract class is not allowed\n",
        "# animal = Animal()  # This will raise a TypeError\n",
        "\n",
        "# Instantiation of subclasses\n",
        "dog = Dog()\n",
        "cat = Cat()\n",
        "\n",
        "dog.sound()  # Output: Bark!\n",
        "cat.sound()  # Output: Meow!\n",
        "dog.sleep()  # Output: This animal is sleeping.\n",
        "Abstract classes are particularly useful when designing large-scale systems where a consistent interface is essential. They provide a powerful way to combine flexibility with structure.\n"
      ],
      "metadata": {
        "id": "uhC0nEkyKIoE"
      }
    },
    {
      "cell_type": "code",
      "source": [
        "## QUES 16)  What are the advantages of OOP?"
      ],
      "metadata": {
        "id": "GmcqskbVLFY3"
      },
      "execution_count": null,
      "outputs": []
    },
    {
      "cell_type": "markdown",
      "source": [
        "Object-Oriented Programming (OOP) offers numerous advantages that make it a preferred programming paradigm for designing complex and scalable applications. Here are some of the key benefits:\n",
        "\n",
        "1. Code Reusability\n",
        "OOP promotes reusability by allowing developers to create classes that can be used across multiple projects or parts of an application.\n",
        "\n",
        "Features like inheritance enable child classes to reuse and extend the functionality of parent classes, reducing redundant code.\n",
        "\n",
        "2. Modularity and Organization\n",
        "Code is organized into objects and classes, making it easier to understand, debug, and maintain.\n",
        "\n",
        "Each class focuses on a specific functionality, fostering modular design.\n",
        "\n",
        "3. Scalability\n",
        "OOP makes it easier to expand and scale applications. New features and functionalities can be added by creating new classes or extending existing ones without disturbing the existing codebase.\n",
        "\n",
        "4. Abstraction\n",
        "OOP allows you to hide the complexity of implementation from the user by exposing only the essential features through abstraction. This makes code easier to use and manage.\n",
        "\n",
        "5. Encapsulation\n",
        "By bundling data (attributes) and methods (functions) into a single entity (class) and restricting direct access to the data, OOP enhances security and integrity. Controlled access is typically achieved through getter and setter methods.\n",
        "\n",
        "6. Polymorphism\n",
        "Through polymorphism, OOP enables objects of different types to be treated uniformly. This flexibility simplifies code and enhances its adaptability to changing requirements.\n",
        "\n",
        "7. Real-World Mapping\n",
        "OOP is based on objects, which are inspired by real-world entities. This approach makes it intuitive to model complex systems like businesses, games, and simulations in code.\n",
        "\n",
        "8. Flexibility and Extensibility\n",
        "With features like method overriding and dynamic binding, OOP provides the flexibility to redefine behavior while keeping the core structure intact.\n",
        "\n",
        "9. Improved Code Maintenance\n",
        "With the modular nature of OOP, fixing bugs or making updates becomes easier because changes in one class don't necessarily impact others.\n",
        "\n",
        "10. Collaboration in Team Environments\n",
        "OOP allows teams to work on different parts of a project independently. For instance, one team can work on a class for managing user accounts, while another works on a class for handling payments."
      ],
      "metadata": {
        "id": "GpRhirQ4Lf2_"
      }
    },
    {
      "cell_type": "code",
      "source": [
        "## QUES 17) What is the difference between a class variable and an instance variable?"
      ],
      "metadata": {
        "id": "ej9dwdN2MJlu"
      },
      "execution_count": null,
      "outputs": []
    },
    {
      "cell_type": "markdown",
      "source": [
        "In Python, class variables and instance variables serve different purposes and are defined at different levels within a class.\n",
        "Class Variable\n",
        "Definition: A class variable is shared across all instances of the class. It is defined at the class level, not within any specific method (usually outside of the __init__ method).\n",
        "\n",
        "Scope: Accessible by all instances of the class and the class itself.\n",
        "\n",
        "Storage: Only one copy of the class variable exists, and changes made to it are reflected across all instances.\n",
        "\n",
        "Usage: Used for constants or attributes that need to be shared among all objects of the class.\n",
        "\n",
        "Example:\n",
        "class Animal:\n",
        "    kingdom = \"Animalia\"  # Class variable\n",
        "\n",
        "    def __init__(self, name):\n",
        "        self.name = name  # Instance variable\n",
        "\n",
        "# Accessing class variable\n",
        "print(Animal.kingdom)  # Output: Animalia\n",
        "\n",
        "# Modifying class variable\n",
        "a1 = Animal(\"Lion\")\n",
        "a2 = Animal(\"Tiger\")\n",
        "a1.kingdom = \"Plantae\"  # Overriding for the instance a1\n",
        "print(Animal.kingdom)  \n",
        "Instance Variable\n",
        "Definition: An instance variable is unique to each object (or instance) and stores data that is specific to that object.\n",
        "\n",
        "Scope: Belongs to a particular instance, and changes to it do not affect other instances.\n",
        "\n",
        "Storage: Each object has its own copy of instance variables, stored in the object’s memory.\n",
        "\n",
        "Usage: Used to store data specific to a single object, such as its unique properties or state. example:\n",
        "class Animal:\n",
        "    kingdom = \"Animalia\"  # Class variable\n",
        "\n",
        "    def __init__(self, name, species):\n",
        "        self.name = name      # Instance variable\n",
        "        self.species = species  # Instance variable\n",
        "\n",
        "# Creating instances\n",
        "a1 = Animal(\"Lion\", \"Panthera leo\")\n",
        "a2 = Animal(\"Tiger\", \"Panthera tigris\")\n",
        "\n",
        "# Accessing instance variables\n",
        "print(a1.name, a1.species)  # Output: Lion Panthera leo\n",
        "print(a2.name, a2.species)  # Output: Tiger Panthera tigris\n"
      ],
      "metadata": {
        "id": "7W6y1D1eOHHs"
      }
    },
    {
      "cell_type": "code",
      "source": [
        "## QUES 18) What is multiple inheritance in Python?"
      ],
      "metadata": {
        "id": "w_Vzo8BHL4UY"
      },
      "execution_count": null,
      "outputs": []
    },
    {
      "cell_type": "markdown",
      "source": [
        "Multiple inheritance in Python is a feature that allows a class to inherit from more than one parent class. This means that the child class inherits attributes and methods from all the parent classes, enabling the combination of functionalities from multiple sources.\n",
        "\n",
        "Key Characteristics:\n",
        "Syntax: A class is declared with multiple parent classes in parentheses, separated by commas.\n",
        "\n",
        "Attribute/Method Inheritance: The child class gains access to all attributes and methods from its parent classes.\n",
        "\n",
        "Method Resolution Order (MRO): Python resolves any conflicts (e.g., methods with the same name in parent classes) using the MRO. It uses the C3 linearization algorithm to determine the order in which classes are searched.\n",
        "class Animal:\n",
        "    def eat(self):\n",
        "        print(\"This animal eats food.\")\n",
        "\n",
        "class Bird:\n",
        "    def fly(self):\n",
        "        print(\"This bird can fly.\")\n",
        "\n",
        "class Bat(Animal, Bird):  # Bat inherits from both Animal and Bird\n",
        "    def hang(self):\n",
        "        print(\"This bat hangs upside down.\")\n",
        "\n",
        "# Create an instance of Bat\n",
        "bat = Bat()\n",
        "bat.eat()  # Output: This animal eats food. (inherited from Animal)\n",
        "bat.fly()  # Output: This bird can fly. (inherited from Bird)\n",
        "bat.hang() # Output: This bat hangs upside down. (specific to Bat)\n"
      ],
      "metadata": {
        "id": "W5zXpJVeabIK"
      }
    },
    {
      "cell_type": "code",
      "source": [
        "## QUES 19) Explain the purpose of ‘’__str__’ and ‘__repr__’ ‘ methods in Python."
      ],
      "metadata": {
        "id": "vCRI1M-eMPqg"
      },
      "execution_count": null,
      "outputs": []
    },
    {
      "cell_type": "markdown",
      "source": [
        "In Python, __str__ and __repr__ are special or dunder methods that define how objects are represented as strings. These methods allow you to customize the string representation of an object, making it more human-readable (__str__) or developer-focused (__repr__).\n",
        "__str__ Method\n",
        "Purpose: Provides a \"pretty\" or user-friendly string representation of an object. This is typically what you'd want end-users to see.\n",
        "\n",
        "When It's Called: Invoked when you use the str() function or print() on an object.Example:\n",
        "class Person:\n",
        "    def __init__(self, name, age):\n",
        "        self.name = name\n",
        "        self.age = age\n",
        "\n",
        "    def __str__(self):\n",
        "        return f\"{self.name} is {self.age} years old.\"\n",
        "\n",
        "person = Person(\"Alice\", 30)\n",
        "print(person)  # Output: Alice is 30 years old.\n",
        "__repr__ Method\n",
        "Purpose: Provides a string representation that is more developer-focused and typically includes enough information to recreate the object (if possible). Its main goal is debugging and logging.\n",
        "\n",
        "When It's Called: Invoked when you use the repr() function, or when you inspect the object in an interactive session or debugger.\n",
        "Example:\n",
        "class Person:\n",
        "    def __init__(self, name, age):\n",
        "        self.name = name\n",
        "        self.age = age\n",
        "\n",
        "    def __repr__(self):\n",
        "        return f\"Person(name='{self.name}', age={self.age})\"\n",
        "\n",
        "person = Person(\"Alice\", 30)\n",
        "print(repr(person))  # Output: Person(name='Alice', age=30)\n"
      ],
      "metadata": {
        "id": "rdz1BFOVagIv"
      }
    },
    {
      "cell_type": "code",
      "source": [
        "## QUES 20) What is the significance of the ‘super()’ function in Python?"
      ],
      "metadata": {
        "id": "devibrocMa8N"
      },
      "execution_count": null,
      "outputs": []
    },
    {
      "cell_type": "markdown",
      "source": [
        "The super() function in Python is a built-in method that allows you to call a method from a parent (or superclass) within a child (or subclass). It is most commonly used in the context of inheritance to access and initialize parent class methods or properties. Here's why it's significant:\n",
        "\n",
        "Significance of super():\n",
        "Access Parent Class Methods and Attributes:\n",
        "\n",
        "The super() function provides a straightforward way to invoke methods or access properties from the parent class, ensuring that the parent class functionality is retained in the child class.\n",
        "\n",
        "Avoid Repetition:\n",
        "\n",
        "By using super(), you avoid duplicating code from the parent class in the child class. It ensures better maintainability and reusability.\n",
        "\n",
        "Support for Multiple Inheritance:\n",
        "\n",
        "In Python's multiple inheritance, super() plays a crucial role in managing the Method Resolution Order (MRO). It ensures that the appropriate parent method is called in a consistent and predictable way.\n",
        "\n",
        "Dynamic Resolution:\n",
        "\n",
        "The super() function dynamically resolves which class’s method to call based on the inheritance hierarchy. This makes it particularly useful for extensibility in large, complex systems.\n",
        "In summary, the super() function is a powerful tool for ensuring clean, maintainable, and extendable code when working with inheritance. It seamlessly manages parent-child relationships and avoids potential pitfalls in multiple inheritance."
      ],
      "metadata": {
        "id": "_Y3aOtF0bAhu"
      }
    },
    {
      "cell_type": "code",
      "source": [
        "## QUES 21) What is the significance of the __del__ method in Python?"
      ],
      "metadata": {
        "id": "tWrg9IiGMf72"
      },
      "execution_count": null,
      "outputs": []
    },
    {
      "cell_type": "markdown",
      "source": [
        "The __del__ method in Python is a special or \"magic\" method, also known as the destructor. It is called automatically when an object is about to be destroyed, which usually happens when there are no more references to the object. The primary purpose of the __del__ method is to perform cleanup tasks, such as releasing resources, closing files, or disconnecting from a database.The __del__ method is called by Python's garbage collector when the object is no longer in use.\n",
        "Syntax:def __del__(self):\n",
        "When to Use __del__:\n",
        "Resource Cleanup: To release memory, close files, or disconnect network connections.\n",
        "\n"
      ],
      "metadata": {
        "id": "X8_mq1yFtQ86"
      }
    },
    {
      "cell_type": "code",
      "source": [
        "## QUES 22) What is the difference between @staticmethod and @classmethod in Python?"
      ],
      "metadata": {
        "id": "zclnj9JNMmZc"
      },
      "execution_count": null,
      "outputs": []
    },
    {
      "cell_type": "markdown",
      "source": [
        "In Python, both @staticmethod and @classmethod are decorators used to define methods that aren't typical instance methods, but they serve different purposes. Here's a clear distinction between the two:\n",
        "\n",
        "@staticmethod\n",
        "Definition: A static method is a method that doesn't depend on the class or an instance for its behavior.\n",
        "\n",
        "First Argument: It doesn't take self (instance reference) or cls (class reference) as its first argument.\n",
        "\n",
        "Purpose: Used for utility functions or operations that logically belong to the class but don't need access to class or instance data.\n",
        "\n",
        "Usage: Can be called directly on the class or an instance.\n",
        "\n",
        "Decorator: @staticmethod.\n",
        "example:\n",
        "class Math:\n",
        "    @staticmethod\n",
        "    def add(a, b):\n",
        "        return a + b\n",
        "\n",
        "# Call the static method\n",
        "print(Math.add(5, 3))  # Output: 8\n",
        "In this example, add() doesn’t use any instance or class-specific data—it simply performs a calculation.\n",
        "\n",
        "@classmethod\n",
        "Definition: A class method is a method that works with the class itself rather than an instance.\n",
        "\n",
        "First Argument: Takes cls (class reference) as its first argument, which allows it to modify class variables or interact with the class.\n",
        "\n",
        "Purpose: Often used for factory methods or operations that require information about the class.\n",
        "\n",
        "Usage: Can also be called directly on the class or an instance.\n",
        "\n",
        "Decorator: @classmethod.\n",
        "Example:\n",
        "class Employee:\n",
        "    base_salary = 10000  # Class variable\n",
        "\n",
        "    @classmethod\n",
        "    def set_base_salary(cls, new_salary):\n",
        "        cls.base_salary = new_salary  # Modifies class variable\n",
        "\n",
        "# Call the class method\n",
        "Employee.set_base_salary(12000)\n",
        "print(Employee.base_salary)  # Output: 12000\n",
        "In this example, set_base_salary() modifies a class-level attribute (base_salary) using the class reference cls."
      ],
      "metadata": {
        "id": "3TzK054u0OIE"
      }
    },
    {
      "cell_type": "code",
      "source": [
        "## QUES 23) How does polymorphism work in Python with inheritance?"
      ],
      "metadata": {
        "id": "eSSpc2J0Msvc"
      },
      "execution_count": null,
      "outputs": []
    },
    {
      "cell_type": "markdown",
      "source": [
        "Polymorphism in Python works seamlessly with inheritance, allowing objects of different subclasses to be treated as objects of their parent class. It enables dynamic behavior, where the same method or operation can have different implementations depending on the class of the object being used. This is a key component of Python's flexibility and is heavily used to promote code reusability and extensibility.\n",
        "How Polymorphism Works with Inheritance\n",
        "Parent Class Defines Common Interface:\n",
        "\n",
        "The parent class contains a method that is intended to be overridden by its child classes. This acts as a template or interface.\n",
        "\n",
        "Child Classes Override or Extend Behavior:\n",
        "\n",
        "Subclasses provide their own implementations for the inherited method, which can differ from the parent class.\n",
        "\n",
        "Dynamic Dispatch:\n",
        "\n",
        "At runtime, the method called on an object depends on the type of the object, not on the type of reference pointing to it. This is also known as runtime polymorphism.\n",
        "Example: Polymorphism with Inheritance\n",
        "class Animal:\n",
        "    def make_sound(self):  # Parent class method\n",
        "        print(\"This animal makes a sound.\")\n",
        "\n",
        "class Dog(Animal):\n",
        "    def make_sound(self):  # Overriding method\n",
        "        print(\"The dog barks.\")\n",
        "\n",
        "class Cat(Animal):\n",
        "    def make_sound(self):  # Overriding method\n",
        "        print(\"The cat meows.\")\n",
        "\n",
        "# Function demonstrating polymorphism\n",
        "def animal_sound(animal):\n",
        "    animal.make_sound()\n",
        "\n",
        "# Instances of subclasses\n",
        "dog = Dog()\n",
        "cat = Cat()\n",
        "\n",
        "# Treating all objects as instances of the parent class\n",
        "animal_sound(dog)  # Output: The dog barks.\n",
        "animal_sound(cat)  # Output: The cat meows.\n",
        "Key Takeaways in This Example:\n",
        "Common Interface: The Animal class defines a generic make_sound() method.\n",
        "\n",
        "Overriding: The Dog and Cat subclasses override the make_sound() method with their own implementations.\n",
        "\n",
        "Dynamic Behavior: The animal_sound() function accepts an object of the Animal type, but the method executed is determined at runtime based on the object's actual class."
      ],
      "metadata": {
        "id": "2rwTNj0s0uhj"
      }
    },
    {
      "cell_type": "code",
      "source": [
        "## QUES 24) What is method chaining in Python OOP?"
      ],
      "metadata": {
        "id": "9R_f4dFCM2KM"
      },
      "execution_count": null,
      "outputs": []
    },
    {
      "cell_type": "markdown",
      "source": [
        "Method chaining is a technique in object-oriented programming where multiple methods are called on the same object in a single statement. This is achieved by having each method return self, allowing consecutive method calls to be linked together.\n",
        "\n",
        "Benefits of Method Chaining\n",
        "Improves readability by making the code more concise.\n",
        "Eliminates intermediate variables, reducing clutter.\n",
        "Encourages a fluent interface design, making object manipulation intuitive.\n",
        "Example of Method Chaining\n",
        "class Car:\n",
        "    def _init_(self, brand):\n",
        "        self.brand = brand\n",
        "        self.speed = 0\n",
        "\n",
        "    def accelerate(self, amount):\n",
        "     self.speed += amount\n",
        "        return self  # Returning self allows chaining\n",
        "\n",
        "    def brake(self, amount):\n",
        "        self.speed -= amount\n",
        "        return self  # Returning self allows chaining\n",
        "\n",
        "    def display_speed(self):\n",
        "        print(f\"{self.brand} is going {self.speed} mph\")\n",
        "        return self  # Returning self allows further chaining\n",
        "\n",
        "# Example usage\n",
        "car = Car(\"Tesla\")\n",
        "car.accelerate(30).brake(10).display_speed()\n",
        "Output\n",
        "Tesla is going 20 mph\n",
        "Each method modifies the object and returns self, enabling a sequence of method calls without needing separate statements.\n",
        "\n"
      ],
      "metadata": {
        "id": "rYO4q_rD6Zfe"
      }
    },
    {
      "cell_type": "code",
      "source": [
        "## QUES 25) What is the purpose of the __call__ method in Python?"
      ],
      "metadata": {
        "id": "HPwRXPptM9Oc"
      },
      "execution_count": null,
      "outputs": []
    },
    {
      "cell_type": "markdown",
      "source": [
        "The _call_ method in Python allows an instance of a class to be called as if it were a function. When defined in a class, it enables objects to be invoked using parentheses, just like calling a regular function.\n",
        "\n",
        "Purpose of _call_:\n",
        "Makes an Object Callable – Allows an instance of a class to be used as a function.\n",
        "Encapsulates Logic – Can store state and execute complex operations when the object is called.\n",
        "Enhances Readability – Provides a clean way to define behaviors without requiring explicit method names.\n",
        "Example:\n",
        "class Multiplier:\n",
        "    def _init_(self, factor):\n",
        "        self.factor = factor\n",
        "\n",
        "    def _call_(self, value):\n",
        "        return value * self.factor\n",
        "\n",
        "# Creating an instance\n",
        "double = Multiplier(2)\n",
        "triple = Multiplier(3)\n",
        "\n",
        "# Using the instance as a function\n",
        "print(double(5))  # Output: 10\n",
        "print(triple(5))  # Output: 15"
      ],
      "metadata": {
        "id": "nrVPsOKm6knr"
      }
    },
    {
      "cell_type": "markdown",
      "source": [
        "PRACTICAL QUESTIONS"
      ],
      "metadata": {
        "id": "BI29P9os8I0I"
      }
    },
    {
      "cell_type": "code",
      "source": [
        "## QUES 1)  Create a parent class Animal with a method speak() that prints a generic message. Create a child class Dog\n",
        "## that overrides the speak() method to print \"Bark!\".\n",
        "class Animal:\n",
        "    def speak(self):\n",
        "        print(\"This animal makes a sound.\")\n",
        "\n",
        "class Dog(Animal):\n",
        "    def speak(self):\n",
        "        print(\"Bark!\")\n",
        "\n",
        "# Example usage\n",
        "animal = Animal()\n",
        "animal.speak()\n",
        "\n",
        "dog = Dog()\n",
        "dog.speak()"
      ],
      "metadata": {
        "colab": {
          "base_uri": "https://localhost:8080/"
        },
        "id": "-cmEM-TY8HIZ",
        "outputId": "0899b3aa-30ca-4ab8-d4cc-41f6bdec9f53"
      },
      "execution_count": 1,
      "outputs": [
        {
          "output_type": "stream",
          "name": "stdout",
          "text": [
            "This animal makes a sound.\n",
            "Bark!\n"
          ]
        }
      ]
    },
    {
      "cell_type": "code",
      "source": [
        "## QUES 2)Write a program to create an abstract class Shape with a method area(). Derive classes Circle and Rectangle\n",
        "## from it and implement the area() method in both.\n",
        "from abc import ABC, abstractmethod\n",
        "import math\n",
        "\n",
        "# Abstract base class\n",
        "class Shape(ABC):\n",
        "    @abstractmethod\n",
        "    def area(self):\n",
        "        pass\n",
        "\n",
        "# Derived class Circle\n",
        "class Circle(Shape):\n",
        "    def __init__(self, radius):\n",
        "        self.radius = radius\n",
        "\n",
        "    def area(self):\n",
        "        return math.pi * self.radius ** 2\n",
        "\n",
        "# Derived class Rectangle\n",
        "class Rectangle(Shape):\n",
        "    def __init__(self, width, height):\n",
        "        self.width = width\n",
        "        self.height = height\n",
        "\n",
        "    def area(self):\n",
        "        return self.width * self.height\n",
        "\n",
        "# Example usage\n",
        "if __name__ == \"__main__\":\n",
        "    # Create a circle with radius 5\n",
        "    circle = Circle(5)\n",
        "    print(f\"Area of the circle: {circle.area()}\")\n",
        "\n",
        "    # Create a rectangle with width 4 and height 7\n",
        "    rectangle = Rectangle(4, 7)\n",
        "    print(f\"Area of the rectangle: {rectangle.area()}\")\n",
        "\n",
        "\n"
      ],
      "metadata": {
        "colab": {
          "base_uri": "https://localhost:8080/"
        },
        "id": "MW7qgvF-JKhJ",
        "outputId": "859f431f-a571-479a-fbe9-15affc0fafa7"
      },
      "execution_count": 25,
      "outputs": [
        {
          "output_type": "stream",
          "name": "stdout",
          "text": [
            "Area of the circle: 78.53981633974483\n",
            "Area of the rectangle: 28\n"
          ]
        }
      ]
    },
    {
      "cell_type": "code",
      "source": [
        "## QUES 3)  Implement a multi-level inheritance scenario where a class Vehicle has an attribute type. Derive a class Car\n",
        "## and further derive a class ElectricCar that adds a battery attribute.\n",
        "# Base class Vehicle\n",
        "class Vehicle:\n",
        "    def __init__(self, type):\n",
        "        self.type = type\n",
        "\n",
        "    def display_info(self):\n",
        "        print(f\"Vehicle Type: {self.type}\")\n",
        "\n",
        "# Derived class Car\n",
        "class Car(Vehicle):\n",
        "    def __init__(self, type, make, model):\n",
        "        # Initialize the Vehicle class part\n",
        "        super().__init__(type)\n",
        "        self.make = make\n",
        "        self.model = model\n",
        "\n",
        "    def display_info(self):\n",
        "        super().display_info()  # Call the parent class method\n",
        "        print(f\"Car Make: {self.make}\")\n",
        "        print(f\"Car Model: {self.model}\")\n",
        "\n",
        "# Further derived class ElectricCar\n",
        "class ElectricCar(Car):\n",
        "    def __init__(self, type, make, model, battery_capacity):\n",
        "        # Initialize the Car class part\n",
        "        super().__init__(type, make, model)\n",
        "        self.battery_capacity = battery_capacity\n",
        "\n",
        "    def display_info(self):\n",
        "        super().display_info()  # Call the parent class method\n",
        "        print(f\"Battery Capacity: {self.battery_capacity} kWh\")\n",
        "\n",
        "# Example usage\n",
        "if __name__ == \"__main__\":\n",
        "     # Create an ElectricCar instance\n",
        "    electric_car = ElectricCar(\"Electric\", \"Tesla\", \"Model 3\", 75)\n",
        "\n",
        "    # Display all the information\n",
        "    electric_car.display_info()"
      ],
      "metadata": {
        "colab": {
          "base_uri": "https://localhost:8080/"
        },
        "id": "MHFRifjD95TF",
        "outputId": "3a8d36bc-2163-4050-9cbc-8796d1dce924"
      },
      "execution_count": 28,
      "outputs": [
        {
          "output_type": "stream",
          "name": "stdout",
          "text": [
            "Vehicle Type: Electric\n",
            "Car Make: Tesla\n",
            "Car Model: Model 3\n",
            "Battery Capacity: 75 kWh\n"
          ]
        }
      ]
    },
    {
      "cell_type": "code",
      "source": [
        "## QUES 4)  Demonstrate polymorphism by creating a base class Bird with a method fly(). Create two derived classes\n",
        "## Sparrow and Penguin that override the fly() method.\n",
        "class Bird:\n",
        "    def fly(self):\n",
        "        print(\"This bird can fly.\")\n",
        "\n",
        "class Sparrow(Bird):\n",
        "    def fly(self):\n",
        "        print(\"Sparrow flies high in the sky.\")\n",
        "\n",
        "class Penguin(Bird):\n",
        "    def fly(self):\n",
        "        print(\"Penguins cannot fly but can swim excellently.\")\n",
        "# Example usage\n",
        "def demonstrate_flight(bird):\n",
        "    bird.fly()\n",
        "\n",
        "bird = Bird()\n",
        "demonstrate_flight(bird)\n",
        "\n",
        "sparrow = Sparrow()\n",
        "demonstrate_flight(sparrow)\n",
        "\n",
        "penguin = Penguin()\n",
        "demonstrate_flight(penguin)\n"
      ],
      "metadata": {
        "colab": {
          "base_uri": "https://localhost:8080/"
        },
        "id": "_gWkDDFD95qm",
        "outputId": "3b33596a-0ca9-4994-9045-a7bb449275ac"
      },
      "execution_count": 5,
      "outputs": [
        {
          "output_type": "stream",
          "name": "stdout",
          "text": [
            "This bird can fly.\n",
            "Sparrow flies high in the sky.\n",
            "Penguins cannot fly but can swim excellently.\n"
          ]
        }
      ]
    },
    {
      "cell_type": "code",
      "source": [
        "## QUES 5)  Write a program to demonstrate encapsulation by creating a class BankAccount with private attributes\n",
        "## balance and methods to deposit, withdraw, and check balance.\n",
        "class BankAccount:\n",
        "    def __init__(self, initial_balance=0):\n",
        "        self._balance = initial_balance  # Private attribute\n",
        "\n",
        "    # Deposit method\n",
        "    def deposit(self, amount):\n",
        "        if amount > 0:\n",
        "            self._balance += amount\n",
        "            print(f\"Deposited ${amount}. Current balance: ${self._balance}\")\n",
        "        else:\n",
        "            print(\"Deposit amount must be positive.\")\n",
        "\n",
        "    # Withdraw method\n",
        "    def withdraw(self, amount):\n",
        "        if amount > 0:\n",
        "            if self._balance >= amount:\n",
        "                self._balance -= amount\n",
        "                print(f\"Withdrew ${amount}. Current balance: ${self._balance}\")\n",
        "            else:\n",
        "                print(\"Insufficient funds.\")\n",
        "        else:\n",
        "            print(\"Withdrawal amount must be positive.\")\n",
        "\n",
        "    # Method to check balance\n",
        "    def check_balance(self):\n",
        "        print(f\"Current balance: ${self._balance}\")\n",
        "\n",
        "# Example usage\n",
        "if __name__ == \"__main__\":\n",
        "    # Create a BankAccount instance with an initial balance of $1000\n",
        "    account = BankAccount(1000)\n",
        "\n",
        "    # Check balance\n",
        "    account.check_balance()\n",
        "\n",
        "    # Deposit money\n",
        "    account.deposit(500)\n",
        "\n",
        "    # Withdraw money\n",
        "    account.withdraw(300)\n",
        "\n",
        "    # Attempt to withdraw more than available balance\n",
        "    account.withdraw(1500)\n",
        "\n",
        "    # Final balance check\n",
        "    account.check_balance()\n"
      ],
      "metadata": {
        "colab": {
          "base_uri": "https://localhost:8080/"
        },
        "id": "XimHaw4o-OMu",
        "outputId": "4b4ad63d-b98f-4656-f557-5b60999dcd54"
      },
      "execution_count": 29,
      "outputs": [
        {
          "output_type": "stream",
          "name": "stdout",
          "text": [
            "Current balance: $1000\n",
            "Deposited $500. Current balance: $1500\n",
            "Withdrew $300. Current balance: $1200\n",
            "Insufficient funds.\n",
            "Current balance: $1200\n"
          ]
        }
      ]
    },
    {
      "cell_type": "code",
      "source": [
        "## QUES 6)  Demonstrate runtime polymorphism using a method play() in a base class Instrument. Derive classes Guitar\n",
        "## and Piano that implement their own version of play().\n",
        "class Instrument:\n",
        "    def play(self):\n",
        "        print(\"Playing an instrument.\")\n",
        "\n",
        "class Guitar(Instrument):\n",
        "    def play(self):\n",
        "        print(\"Strumming the guitar.\")\n",
        "\n",
        "class Piano(Instrument):\n",
        "    def play(self):\n",
        "        print(\"Playing the piano keys.\")\n",
        "\n",
        "# Example usage\n",
        "def play_instrument(instrument):\n",
        "    instrument.play()\n",
        "\n",
        "instrument = Instrument()\n",
        "play_instrument(instrument)\n",
        "\n",
        "guitar = Guitar()\n",
        "play_instrument(guitar)\n",
        "\n",
        "piano = Piano()\n",
        "play_instrument(piano)\n"
      ],
      "metadata": {
        "colab": {
          "base_uri": "https://localhost:8080/"
        },
        "id": "kuiHpYcB-TEF",
        "outputId": "067c6519-a4ab-4aed-dab8-a790a0fec3d5"
      },
      "execution_count": 12,
      "outputs": [
        {
          "output_type": "stream",
          "name": "stdout",
          "text": [
            "Playing an instrument.\n",
            "Strumming the guitar.\n",
            "Playing the piano keys.\n"
          ]
        }
      ]
    },
    {
      "cell_type": "code",
      "source": [
        "## QUES 7) Create a class MathOperations with a class method add_numbers() to add two numbers and a static\n",
        "## method subtract_numbers() to subtract two numbers.\n",
        "class MathOperations:\n",
        "    @classmethod\n",
        "    def add_numbers(cls, a, b):\n",
        "        return a + b\n",
        "\n",
        "    @staticmethod\n",
        "    def subtract_numbers(a, b):\n",
        "        return a - b\n",
        "\n",
        "# Example usage\n",
        "sum_result = MathOperations.add_numbers(10, 5)\n",
        "print(\"Sum:\", sum_result)\n",
        "\n",
        "difference_result = MathOperations.subtract_numbers(10, 5)\n",
        "print(\"Difference:\", difference_result)"
      ],
      "metadata": {
        "colab": {
          "base_uri": "https://localhost:8080/"
        },
        "id": "YG16SFZB-U2n",
        "outputId": "7fe46a31-6183-4763-ed57-6cbd90dba17b"
      },
      "execution_count": 13,
      "outputs": [
        {
          "output_type": "stream",
          "name": "stdout",
          "text": [
            "Sum: 15\n",
            "Difference: 5\n"
          ]
        }
      ]
    },
    {
      "cell_type": "code",
      "source": [
        "## QUES 8) Implement a class Person with a class method to count the total number of persons created.\n",
        "class Person:\n",
        "    # Class variable to keep track of the total number of persons\n",
        "    total_persons = 0\n",
        "\n",
        "    def __init__(self, name, age):\n",
        "        self.name = name\n",
        "        self.age = age\n",
        "        # Each time a new Person object is created, increment the count\n",
        "        Person.total_persons += 1\n",
        "\n",
        "    # Class method to return the total number of Person objects created\n",
        "    @classmethod\n",
        "    def get_total_persons(cls):\n",
        "        return cls.total_persons\n",
        "\n",
        "# Example usage\n",
        "if __name__ == \"__main__\":\n",
        "    # Create some Person objects\n",
        "    person1 = Person(\"Alice\", 30)\n",
        "    person2 = Person(\"Bob\", 25)\n",
        "    person3 = Person(\"Charlie\", 35)\n",
        "\n",
        "    # Get the total number of Person objects created\n",
        "    print(f\"Total persons created: {Person.get_total_persons()}\")  # Output: 3\n"
      ],
      "metadata": {
        "colab": {
          "base_uri": "https://localhost:8080/"
        },
        "id": "hy_eCtpw-UPe",
        "outputId": "0b81680f-b8ae-4bd1-870b-18e80c44a9ec"
      },
      "execution_count": 30,
      "outputs": [
        {
          "output_type": "stream",
          "name": "stdout",
          "text": [
            "Total persons created: 3\n"
          ]
        }
      ]
    },
    {
      "cell_type": "code",
      "source": [
        "## QUES 9)  Write a class Fraction with attributes numerator and denominator. Override the str method to display the\n",
        "## fraction as \"numerator/denominator\".\n",
        "class Fraction:\n",
        "    def __init__(self, numerator, denominator):\n",
        "        if denominator == 0:\n",
        "            raise ValueError(\"Denominator cannot be zero.\")\n",
        "        self.numerator = numerator\n",
        "        self.denominator = denominator\n",
        "\n",
        "    def __str__(self):\n",
        "        return f\"{self.numerator}/{self.denominator}\"\n",
        "\n",
        "# Example usage:\n",
        "f1 = Fraction(3, 4)\n",
        "print(f1)  # Output: 3/4"
      ],
      "metadata": {
        "colab": {
          "base_uri": "https://localhost:8080/"
        },
        "id": "_cUYNhxa-adr",
        "outputId": "4734c6a5-a001-4d73-d8cc-f5d7b302087e"
      },
      "execution_count": 31,
      "outputs": [
        {
          "output_type": "stream",
          "name": "stdout",
          "text": [
            "3/4\n"
          ]
        }
      ]
    },
    {
      "cell_type": "code",
      "source": [
        "## QUES 10)Demonstrate operator overloading by creating a class Vector and overriding the add method to add two\n",
        "## vectors.\n",
        "class Vector:\n",
        "    def __init__(self, x, y):\n",
        "        self.x = x\n",
        "        self.y = y\n",
        "\n",
        "    def __add__(self, other):\n",
        "        if not isinstance(other, Vector):\n",
        "            return NotImplemented\n",
        "        return Vector(self.x + other.x, self.y + other.y)\n",
        "\n",
        "    def __str__(self):\n",
        "        return f\"({self.x}, {self.y})\"\n",
        "\n",
        "# Example usage:\n",
        "v1 = Vector(2, 3)\n",
        "v2 = Vector(4, 5)\n",
        "v3 = v1 + v2\n",
        "print(v3)  # Output: (6, 8)"
      ],
      "metadata": {
        "colab": {
          "base_uri": "https://localhost:8080/"
        },
        "id": "7hwYUeIS-c4N",
        "outputId": "9ca41ae4-5e19-472a-a45b-4382c4fb4efe"
      },
      "execution_count": 32,
      "outputs": [
        {
          "output_type": "stream",
          "name": "stdout",
          "text": [
            "(6, 8)\n"
          ]
        }
      ]
    },
    {
      "cell_type": "code",
      "source": [
        "## QUES 11) Create a class Person with attributes name and age. Add a method greet() that prints \"Hello, my name is\n",
        "## {name} and I am {age} years old.\"\n",
        "class Person:\n",
        "    def __init__(self, name, age):\n",
        "        self.name = name\n",
        "        self.age = age\n",
        "\n",
        "    def greet(self):\n",
        "        print(f\"Hello, my name is {self.name} and I am {self.age} years old.\")\n",
        "\n",
        "# Example usage:\n",
        "p1 = Person(\"Alice\", 25)\n",
        "p1.greet()  # Output: Hello, my name is Alice and I am 25 years old."
      ],
      "metadata": {
        "colab": {
          "base_uri": "https://localhost:8080/"
        },
        "id": "DofD46hY-g8D",
        "outputId": "5dfe43e8-f611-4a56-e954-169cd64d75e1"
      },
      "execution_count": 33,
      "outputs": [
        {
          "output_type": "stream",
          "name": "stdout",
          "text": [
            "Hello, my name is Alice and I am 25 years old.\n"
          ]
        }
      ]
    },
    {
      "cell_type": "code",
      "source": [
        "## QUES 12) Implement a class Student with attributes name and grades. Create a method average_grade() to compute\n",
        "## the average of the grades\n",
        "class Student:\n",
        "    def __init__(self, name, grades):\n",
        "        self.name = name\n",
        "        self.grades = grades  # List of grades\n",
        "\n",
        "    def average_grade(self):\n",
        "        if not self.grades:\n",
        "            return 0  # Return 0 if there are no grades\n",
        "        return sum(self.grades) / len(self.grades)\n",
        "\n",
        "    def __str__(self):\n",
        "        return f\"Student: {self.name}, Average Grade: {self.average_grade():.2f}\"\n",
        "\n",
        "# Example usage:\n",
        "s1 = Student(\"John\", [85, 90, 78, 92])\n",
        "print(s1)  # Output: Student: John, Average Grade: 86.25"
      ],
      "metadata": {
        "colab": {
          "base_uri": "https://localhost:8080/"
        },
        "id": "PUV4jaFMDcUH",
        "outputId": "43463455-0dd8-461a-cf9e-2798b0689e15"
      },
      "execution_count": 34,
      "outputs": [
        {
          "output_type": "stream",
          "name": "stdout",
          "text": [
            "Student: John, Average Grade: 86.25\n"
          ]
        }
      ]
    },
    {
      "cell_type": "code",
      "source": [
        "## QUES 13)Create a class Rectangle with methods set_dimensions() to set the dimensions and area() to calculate the\n",
        "## area.\n",
        "class Rectangle:\n",
        "    def _init_(self):\n",
        "        self.length = 0\n",
        "        self.width = 0\n",
        "\n",
        "    def set_dimensions(self, length, width):\n",
        "        self.length = length\n",
        "        self.width = width\n",
        "\n",
        "    def area(self):\n",
        "        return self.length * self.width\n",
        "\n",
        "# Example usage\n",
        "rectangle = Rectangle()\n",
        "rectangle.set_dimensions(5, 10)\n",
        "print(f\"Rectangle area: {rectangle.area()}\")\n"
      ],
      "metadata": {
        "colab": {
          "base_uri": "https://localhost:8080/"
        },
        "id": "l0T6_jQ--lhl",
        "outputId": "002b8401-5822-4d9e-b286-7fc25c0d067b"
      },
      "execution_count": 19,
      "outputs": [
        {
          "output_type": "stream",
          "name": "stdout",
          "text": [
            "Rectangle area: 50\n"
          ]
        }
      ]
    },
    {
      "cell_type": "code",
      "source": [
        "## QUES 14) Create a class Employee with a method calculate_salary() that computes the salary based on hours worked\n",
        "## and hourly rate. Create a derived class Manager that adds a bonus to the salary\n",
        "class Employee:\n",
        "    def __init__(self, name, hours_worked, hourly_rate):\n",
        "        self.name = name\n",
        "        self.hours_worked = hours_worked\n",
        "        self.hourly_rate = hourly_rate\n",
        "\n",
        "    def calculate_salary(self):\n",
        "        return self.hours_worked * self.hourly_rate\n",
        "\n",
        "    def __str__(self):\n",
        "        return f\"Employee: {self.name}, Salary: {self.calculate_salary():.2f}\"\n",
        "\n",
        "class Manager(Employee):\n",
        "    def __init__(self, name, hours_worked, hourly_rate, bonus):\n",
        "        super().__init__(name, hours_worked, hourly_rate)\n",
        "        self.bonus = bonus\n",
        "\n",
        "    def calculate_salary(self):\n",
        "        return super().calculate_salary() + self.bonus\n",
        "\n",
        "    def __str__(self):\n",
        "        return f\"Manager: {self.name}, Salary: {self.calculate_salary():.2f}\"\n",
        "\n",
        "# Example usage:\n",
        "e1 = Employee(\"Alice\", 40, 20)\n",
        "m1 = Manager(\"Bob\", 40, 30, 500)\n",
        "print(e1)  # Output: Employee: Alice, Salary: 800.00\n",
        "print(m1)  # Output: Manager: Bob, Salary: 1700.00\n"
      ],
      "metadata": {
        "colab": {
          "base_uri": "https://localhost:8080/"
        },
        "id": "iB5D-MPK-xs-",
        "outputId": "14f3b967-f5b9-40c4-839d-8c5793783f5d"
      },
      "execution_count": 35,
      "outputs": [
        {
          "output_type": "stream",
          "name": "stdout",
          "text": [
            "Employee: Alice, Salary: 800.00\n",
            "Manager: Bob, Salary: 1700.00\n"
          ]
        }
      ]
    },
    {
      "cell_type": "code",
      "source": [
        "## QUES 15) Create a class Product with attributes name, price, and quantity. Implement a method total_price() that\n",
        "## calculates the total price of the product.\n",
        "class Product:\n",
        "    def __init__(self, name, price, quantity):\n",
        "        self.name = name\n",
        "        self.price = price\n",
        "        self.quantity = quantity\n",
        "\n",
        "    def total_price(self):\n",
        "        return self.price * self.quantity\n",
        "\n",
        "    def __str__(self):\n",
        "        return f\"Product: {self.name}, Total Price: {self.total_price():.2f}\"\n",
        "\n",
        "# Example usage:\n",
        "p1 = Product(\"Laptop\", 800, 2)\n",
        "print(p1)  # Output: Product: Laptop, Total Price: 1600.00\n"
      ],
      "metadata": {
        "colab": {
          "base_uri": "https://localhost:8080/"
        },
        "id": "BoucwSd6-q0I",
        "outputId": "c45bffff-29c4-457c-d2a8-a9dbf1f22efe"
      },
      "execution_count": 36,
      "outputs": [
        {
          "output_type": "stream",
          "name": "stdout",
          "text": [
            "Product: Laptop, Total Price: 1600.00\n"
          ]
        }
      ]
    },
    {
      "cell_type": "code",
      "source": [
        "## QUES 16) Create a class Animal with an abstract method sound(). Create two derived classes Cow and Sheep that\n",
        "## implement the sound() method.\n",
        "from abc import ABC, abstractmethod\n",
        "\n",
        "class Animal(ABC):\n",
        "    @abstractmethod\n",
        "    def sound(self):\n",
        "        pass\n",
        "\n",
        "class Cow(Animal):\n",
        "    def sound(self):\n",
        "        return \"Moo\"\n",
        "\n",
        "class Sheep(Animal):\n",
        "    def sound(self):\n",
        "        return \"Baa\"\n",
        "\n",
        "# Example usage\n",
        "cow = Cow()\n",
        "print(f\"Cow sound: {cow.sound()}\")\n",
        "\n",
        "sheep = Sheep()\n",
        "print(f\"Sheep sound: {sheep.sound()}\")"
      ],
      "metadata": {
        "colab": {
          "base_uri": "https://localhost:8080/"
        },
        "id": "Q7Btqylq-2sW",
        "outputId": "e0375021-9586-4243-ae89-38a01b6b722a"
      },
      "execution_count": 22,
      "outputs": [
        {
          "output_type": "stream",
          "name": "stdout",
          "text": [
            "Cow sound: Moo\n",
            "Sheep sound: Baa\n"
          ]
        }
      ]
    },
    {
      "cell_type": "code",
      "source": [
        "## QUES 17)Create a class Book with attributes title, author, and year_published. Add a method get_book_info() that\n",
        "## returns a formatted string with the book's details.\n",
        "class Book:\n",
        "    def __init__(self, title, author, year_published):\n",
        "        self.title = title\n",
        "        self.author = author\n",
        "        self.year_published = year_published\n",
        "\n",
        "    def get_book_info(self):\n",
        "        return f\"'{self.title}' by {self.author}, published in {self.year_published}.\"\n",
        "\n",
        "    def __str__(self):\n",
        "        return self.get_book_info()\n",
        "\n",
        "# Example usage:\n",
        "b1 = Book(\"To Kill a Mockingbird\", \"Harper Lee\", 1960)\n",
        "print(b1)  # Output: 'To Kill a Mockingbird' by Harper Lee, published in 1960."
      ],
      "metadata": {
        "colab": {
          "base_uri": "https://localhost:8080/"
        },
        "id": "UE0vfVmZ-60d",
        "outputId": "eb7494e9-4aef-4927-c776-8146bcd4e423"
      },
      "execution_count": 37,
      "outputs": [
        {
          "output_type": "stream",
          "name": "stdout",
          "text": [
            "'To Kill a Mockingbird' by Harper Lee, published in 1960.\n"
          ]
        }
      ]
    },
    {
      "cell_type": "code",
      "source": [
        "## QUES 18)Create a class House with attributes address and price. Create a derived class Mansion that adds an\n",
        "## attribute number_of_rooms.\n",
        "class House:\n",
        "    def __init__(self, address, price):\n",
        "        self.address = address\n",
        "        self.price = price\n",
        "\n",
        "    def __str__(self):\n",
        "        return f\"House at {self.address}, priced at ${self.price:.2f}\"\n",
        "\n",
        "class Mansion(House):\n",
        "    def __init__(self, address, price, number_of_rooms):\n",
        "        super().__init__(address, price)\n",
        "        self.number_of_rooms = number_of_rooms\n",
        "\n",
        "    def __str__(self):\n",
        "        return f\"Mansion at {self.address}, priced at ${self.price:.2f}, with {self.number_of_rooms} rooms.\"\n",
        "\n",
        "# Example usage:\n",
        "h1 = House(\"123 Main St\", 250000)\n",
        "m1 = Mansion(\"456 Luxury Ave\", 5000000, 10)\n",
        "print(h1)  # Output: House at 123 Main St, priced at $250000.00\n",
        "print(m1)  # Output: Mansion at 456 Luxury Ave, priced at $5000000.00, with 10 rooms.\n"
      ],
      "metadata": {
        "colab": {
          "base_uri": "https://localhost:8080/"
        },
        "id": "Cc-0tdkB-7JE",
        "outputId": "73caa3db-6fc6-457d-91c7-9d3661fec2e8"
      },
      "execution_count": 38,
      "outputs": [
        {
          "output_type": "stream",
          "name": "stdout",
          "text": [
            "House at 123 Main St, priced at $250000.00\n",
            "Mansion at 456 Luxury Ave, priced at $5000000.00, with 10 rooms.\n"
          ]
        }
      ]
    }
  ]
}