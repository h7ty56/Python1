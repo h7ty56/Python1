{
  "nbformat": 4,
  "nbformat_minor": 0,
  "metadata": {
    "colab": {
      "provenance": [],
      "include_colab_link": true
    },
    "kernelspec": {
      "name": "python3",
      "display_name": "Python 3"
    },
    "language_info": {
      "name": "python"
    }
  },
  "cells": [
    {
      "cell_type": "markdown",
      "metadata": {
        "id": "view-in-github",
        "colab_type": "text"
      },
      "source": [
        "<a href=\"https://colab.research.google.com/github/h7ty56/Python1/blob/main/PYTHON_BASICS.ipynb\" target=\"_parent\"><img src=\"https://colab.research.google.com/assets/colab-badge.svg\" alt=\"Open In Colab\"/></a>"
      ]
    },
    {
      "cell_type": "markdown",
      "source": [
        "THEORITICAL QUESTION"
      ],
      "metadata": {
        "id": "gH9aNrkkbsva"
      }
    },
    {
      "cell_type": "code",
      "execution_count": null,
      "metadata": {
        "id": "jmpQgZMcbYey"
      },
      "outputs": [],
      "source": [
        "## QUES 1) What is Python, and why is it popular?"
      ]
    },
    {
      "cell_type": "markdown",
      "source": [
        "Python is a high-level, interpreted programming language known for its readability and simplicity. Here are some reasons why it has gained immense popularity:\n",
        "\n",
        "Readability and Simplicity\n",
        "Python's syntax is clean and easy to understand, making it a great choice for beginners and experts alike.\n",
        "\n",
        "Versatility\n",
        "It's used in various domains, including web development, data science, artificial intelligence, scientific computing, and more.\n",
        "\n",
        "Extensive Libraries and Frameworks\n",
        "Python has a rich ecosystem of libraries and frameworks, such as Django for web development, NumPy and pandas for data analysis, and TensorFlow and PyTorch for machine learning.\n",
        "\n",
        "Community Support\n",
        "A large and active community means abundant resources, tutorials, and third-party tools, which make learning and problem-solving easier.\n",
        "\n",
        "Productivity and Speed\n",
        "Python allows for rapid development and iteration, helping developers build and deploy projects more quickly.\n",
        "\n",
        "Cross-Platform\n",
        "Python runs on multiple platforms, including Windows, macOS, and Linux, providing flexibility and ease of deployment.\n",
        "\n",
        "Python's combination of simplicity, versatility, and strong community support makes it a powerful tool for a wide range of applications.\n",
        "\n"
      ],
      "metadata": {
        "id": "UQO9BAvOcadr"
      }
    },
    {
      "cell_type": "code",
      "source": [
        "## QUES 2) What is an interpreter in Python?"
      ],
      "metadata": {
        "id": "FMxh829vccxj"
      },
      "execution_count": null,
      "outputs": []
    },
    {
      "cell_type": "markdown",
      "source": [
        "An interpreter in Python is a program that executes Python code by translating it into machine code line-by-line. When you write a Python script and run it, the interpreter reads the script, interprets each line, and immediately executes it. This process allows for interactive testing and debugging, as you can run your code and see the results immediately.\n",
        "Key Points\n",
        "Interactive Mode: You can use the interpreter in an interactive mode where you type Python commands and see the output right away. This is great for testing and learning.\n",
        "\n",
        "Script Mode: You can also write a Python script (a file with a .py extension) and run it through the interpreter.\n",
        "\n",
        "Portability: Python code can run on any machine with the appropriate interpreter installed, making it highly portable.\n",
        "\n",
        "Dynamic Typing: The interpreter handles the dynamic typing of variables, meaning you don't need to declare variable types explicitly.\n",
        "\n",
        "Garbage Collection: The interpreter manages memory automatically through garbage collection, freeing up memory that is no longer in use."
      ],
      "metadata": {
        "id": "ot2Crj1_cevZ"
      }
    },
    {
      "cell_type": "code",
      "source": [
        "## QUES 3 ) What are pre-defined keywords in Python?"
      ],
      "metadata": {
        "id": "weDYsRbzceQ5"
      },
      "execution_count": null,
      "outputs": []
    },
    {
      "cell_type": "markdown",
      "source": [
        "Pre-defined keywords in Python are reserved words that have specific meanings and purposes within the language. They are an essential part of the language's syntax and cannot be used as identifiers (e.g., variable names or function names). These keywords help define the structure and behavior of Python programs.Examples of keywords include if, else, while, for, def, class, import, try, except, return, True, False, None, etc.\n",
        "Keywords are case-sensitive and cannot be redefined or overridden within a Python program."
      ],
      "metadata": {
        "id": "ME44jDJqcdp-"
      }
    },
    {
      "cell_type": "code",
      "source": [
        "## QUES 4) Can keywords be used as variable names?"
      ],
      "metadata": {
        "id": "DtRYkvYEcjIk"
      },
      "execution_count": null,
      "outputs": []
    },
    {
      "cell_type": "markdown",
      "source": [
        "No, pre-defined keywords in Python cannot be used as variable names. These keywords have special meanings and serve specific purposes within the language's syntax, so using them as variable names would cause syntax errors and confusion in your code.\n",
        "\n",
        "For example, trying to use a keyword as a variable name would result in an error:\n",
        "def = 5  # This will cause a syntax error\n",
        "if = 10  # This will also cause a syntax error"
      ],
      "metadata": {
        "id": "n7WiM7edcjsi"
      }
    },
    {
      "cell_type": "code",
      "source": [
        "## QUES 5) What is mutability in Python?"
      ],
      "metadata": {
        "id": "auFeziKyckvS"
      },
      "execution_count": null,
      "outputs": []
    },
    {
      "cell_type": "markdown",
      "source": [
        "Mutability in Python refers to the ability of an object to be changed after it is created. Objects that can be modified are called mutable, while objects that cannot be changed are called immutable.\n",
        "\n",
        "Mutable Objects:\n",
        "These objects allow you to change their content without changing their identity. Common examples of mutable objects in Python include:\n",
        "\n",
        "Lists: You can modify, add, or remove elements in a list.\n",
        "\n",
        "Dictionaries: You can change, add, or remove key-value pairs.\n",
        "\n",
        "Sets: You can add or remove elements.\n",
        "\n",
        "Immutable Objects:\n",
        "These objects do not allow any change after their creation. Common examples of immutable objects include:\n",
        "\n",
        "Strings: Any operation that modifies a string will create a new string.\n",
        "\n",
        "Tuples: You cannot change, add, or remove elements in a tuple.\n",
        "\n",
        "Integers: You cannot change the value of an integer."
      ],
      "metadata": {
        "id": "hk5Z9maAclEz"
      }
    },
    {
      "cell_type": "code",
      "source": [
        "## QUES 6) Why are lists mutable, but tuples are immutable?"
      ],
      "metadata": {
        "id": "_-Wpm5bvclV7"
      },
      "execution_count": null,
      "outputs": []
    },
    {
      "cell_type": "markdown",
      "source": [
        "The distinction between mutable lists and immutable tuples in Python is based on their intended use cases and design principles:\n",
        "\n",
        "Lists: Mutable\n",
        "Lists are designed to be versatile and adaptable. They allow modification because they are intended for scenarios where you might need to change, grow, or shrink the collection of items dynamically. Some key reasons for lists being mutable include:\n",
        "\n",
        "Flexibility: Lists can easily adapt to changes, allowing you to add, remove, or modify elements as needed.\n",
        "\n",
        "In-Place Operations: Operations that change the list (like appending or removing elements) can be done in place, without creating a new list. This can be more efficient in terms of memory and performance for large datasets.\n",
        "Example:\n",
        "my_list = [1, 2, 3]\n",
        "my_list.append(4)  # Adds an element to the list\n",
        "print(my_list)  # Output: [1, 2, 3, 4]\n",
        "\n",
        "Tuples: Immutable\n",
        "Tuples, on the other hand, are designed for fixed collections of items. Their immutability provides certain advantages:\n",
        "\n",
        "Hashability: Since tuples are immutable, they can be used as keys in dictionaries or elements in sets, which require their items to be hashable.\n",
        "\n",
        "Safety: Immutability ensures that the data cannot be changed unintentionally, making tuples suitable for representing fixed collections of items like coordinates, RGB color values, or configuration settings.\n",
        "\n",
        "Performance: Creating and accessing tuples can be slightly faster than lists due to their immutability and the simpler memory management.\n",
        "\n",
        "Example:\n",
        "my_tuple = (1, 2, 3)\n",
        "\n",
        "Any attempt to modify the tuple will result in an error\n",
        "\n",
        "my_tuple.append(4)  # This would raise an AttributeError\n",
        "The mutability of lists makes them flexible and dynamic, while the immutability of tuples provides stability and safety for fixed collections. This design choice allows Python to offer both mutable and immutable collection types, catering to different needs and use cases."
      ],
      "metadata": {
        "id": "bUX4_UoOclpK"
      }
    },
    {
      "cell_type": "code",
      "source": [
        "## QUES 7) What is the difference between “==” and “is” operators in Python?"
      ],
      "metadata": {
        "id": "dJGZwBHIcl6B"
      },
      "execution_count": null,
      "outputs": []
    },
    {
      "cell_type": "markdown",
      "source": [
        "In Python, the == operator and the is operator are used for different purposes and have distinct meanings:\n",
        "\n",
        "== Operator\n",
        "Purpose: The == operator is used to compare the values of two objects to check if they are equal.\n",
        "\n",
        "Behavior: It checks whether the values held by the variables are the same.\n",
        "\n",
        "Example:\n",
        "\n",
        "a = [1, 2, 3]\n",
        "\n",
        "b = [1, 2, 3]\n",
        "\n",
        "print(a == b)  # Output: True (because the values are the same)\n",
        "is Operator\n",
        "Purpose: The is operator is used to compare the identities of two objects to check if they refer to the same object in memory.\n",
        "\n",
        "Behavior: It checks whether the variables point to the same memory location (i.e., whether they are the same object).\n",
        "\n",
        "Example:\n",
        "\n",
        "a = [1, 2, 3]\n",
        "\n",
        "b = [1, 2, 3]\n",
        "\n",
        "print(a is b)  # Output: False (because they are different objects in memory)\n",
        "\n",
        "c = a\n",
        "print(a is c)  # Output: True (because both variables refer to the same object)\n",
        "Summary,\n",
        "== checks for value equality.\n",
        "\n",
        "is checks for object identity."
      ],
      "metadata": {
        "id": "oC5lgSi3cmQE"
      }
    },
    {
      "cell_type": "code",
      "source": [
        "## QUES 8) What are logical operators in Python?\n"
      ],
      "metadata": {
        "id": "J3JHxCsvcn-T"
      },
      "execution_count": null,
      "outputs": []
    },
    {
      "cell_type": "markdown",
      "source": [
        "Logical operators in Python are used to combine conditional statements or to invert the boolean values. They return True or False based on the logic applied to the operands. The three main logical operators in Python are:\n",
        "\n",
        "1. and\n",
        "The and operator returns True if both operands are true. If either of the operands is false, it returns False.\n",
        "\n",
        "Example:\n",
        "\n",
        "a = True\n",
        "\n",
        "b = False\n",
        "\n",
        "result = a and b\n",
        "\n",
        "print(result)  # Output: False (since both are not true)\n",
        "2. or\n",
        "The or operator returns True if at least one of the operands is true. If both operands are false, it returns False.\n",
        "\n",
        "Example:\n",
        "\n",
        "a = True\n",
        "\n",
        "b = False\n",
        "\n",
        "result = a or b\n",
        "\n",
        "print(result)  # Output: True (since one of them is true)\n",
        "3. not\n",
        "The not operator inverts the boolean value of its operand. If the operand is true, it returns False, and vice versa.\n",
        "\n",
        "Example:\n",
        "\n",
        "a = True\n",
        "\n",
        "result = not a\n",
        "\n",
        "print(result)  # Output: False (since `a` is true)\n",
        "Combining Logical Operators\n",
        "Logical operators can be combined to form complex conditions. Parentheses can be used to group conditions and clarify the order of operations.\n",
        "\n",
        "Example:\n",
        "\n",
        "a = True\n",
        "\n",
        "b = False\n",
        "\n",
        "c = True\n",
        "\n",
        "result = (a and b) or c\n",
        "\n",
        "print(result)  # Output: True (since `a and b` is False, but `or c` makes it True)\n",
        "Understanding logical operators is fundamental for making decisions and controlling the flow of a Python program. They allow you to create complex conditional statements that can handle various scenarios."
      ],
      "metadata": {
        "id": "CscMaSNOcoTa"
      }
    },
    {
      "cell_type": "code",
      "source": [
        "## QUES 9) What is type casting in Python?"
      ],
      "metadata": {
        "id": "4GtWj7aJcogp"
      },
      "execution_count": null,
      "outputs": []
    },
    {
      "cell_type": "markdown",
      "source": [
        "Type casting, also referred to as type conversion, is the process of changing one data type to another in Python.\n",
        "Python provides built-in functions for type casting, such as int(), float(), str(), list(), tuple(), dict(), etc.\n",
        "Type casting is often necessary for performing arithmetic operations, data manipulation, and input/output operations in Python programs."
      ],
      "metadata": {
        "id": "Loj4P_focotm"
      }
    },
    {
      "cell_type": "code",
      "source": [
        "## QUES 10) What is the difference between implicit and explicit type casting?"
      ],
      "metadata": {
        "id": "JzjrsHsoco6G"
      },
      "execution_count": null,
      "outputs": []
    },
    {
      "cell_type": "markdown",
      "source": [
        "Implicit and explicit type casting are two ways of converting one data type into another in Python.\n",
        "\n",
        "Implicit Type Casting (Coercion)\n",
        "Automatic: The conversion is performed automatically by Python without any explicit instruction from the programmer.\n",
        "\n",
        "No Data Loss: It usually occurs when performing operations between different data types, ensuring there's no data loss.\n",
        "\n",
        "Example:\n",
        "\n",
        "\n",
        "a = 10  # Integer\n",
        "\n",
        "b = 3.14  # Float\n",
        "\n",
        "result = a + b  # Implicitly casts 'a' to float before addition\n",
        "\n",
        "print(result)  # Output: 13.14 (float)\n",
        "Explicit Type Casting\n",
        "Manual: The conversion is explicitly defined by the programmer using built-in functions like int(), float(), str(), etc.\n",
        "\n",
        "Control: Gives the programmer more control over the conversion process.\n",
        "\n",
        "Example:\n",
        "\n",
        "a = \"10\"  # String\n",
        "\n",
        "b = int(a)  # Explicitly cast 'a' to integer\n",
        "\n",
        "result = b + 5\n",
        "\n",
        "print(result)  # Output: 15 (integer)\n",
        "Summary,\n",
        "Implicit Casting: Automatic, occurs without programmer intervention, and typically happens during mixed-type operations.\n",
        "\n",
        "Explicit Casting: Manual, requires the programmer to specify the conversion, providing more control over the process.\n",
        "\n",
        "Understanding when to use implicit and explicit type casting can help ensure your code behaves as expected and handles data types appropriately."
      ],
      "metadata": {
        "id": "0PC9dm0ucpGO"
      }
    },
    {
      "cell_type": "code",
      "source": [
        "## QUES 11) What is the purpose of conditional statements in Python?"
      ],
      "metadata": {
        "id": "RFFL1tjucpTp"
      },
      "execution_count": null,
      "outputs": []
    },
    {
      "cell_type": "markdown",
      "source": [
        "Conditional statements in Python are used to execute specific blocks of code based on certain conditions. They allow you to make decisions in your code by checking whether specific conditions are true or false. The purpose of conditional statements is to control the flow of the program and execute different code paths depending on the conditions.\n",
        "\n",
        "Main Types of Conditional Statements\n",
        "1. if Statement\n",
        "The if statement checks a condition, and if it evaluates to True, the block of code under the if statement is executed.\n",
        "\n",
        "Example:\n",
        "\n",
        "x = 10\n",
        "\n",
        "if x > 5:\n",
        "\n",
        "   print(\"x is greater than 5\")\n",
        "\n",
        "Output: x is greater than 5\n",
        "2. if-else Statement\n",
        "The if-else statement provides an alternative block of code to execute if the condition evaluates to False.\n",
        "\n",
        "Example:\n",
        "\n",
        "x = 3\n",
        "\n",
        "if x > 5:\n",
        "\n",
        " print(\"x is greater than 5\")\n",
        "else:\n",
        "\n",
        " print(\"x is not greater than 5\")\n",
        " Output: x is not greater than 5\n",
        "3. if-elif-else Statement\n",
        "The if-elif-else statement allows you to check multiple conditions sequentially. If one of the elif conditions evaluates to True, its corresponding block of code is executed. If none of the conditions are True, the else block is executed.\n",
        "\n",
        "Example:\n",
        "\n",
        "x = 7\n",
        "\n",
        "if x > 10:\n",
        "\n",
        " print(\"x is greater than 10\")\n",
        "\n",
        "elif x > 5:\n",
        "\n",
        "  print(\"x is greater than 5 but less than or equal to 10\")\n",
        "else:\n",
        "\n",
        "  print(\"x is 5 or less\")\n",
        "\n",
        " Output: x is greater than 5 but less than or equal to 10\n",
        "Purpose:\n",
        "Decision Making: Allows the program to make decisions and execute different code based on conditions.\n",
        "\n",
        "Control Flow: Helps control the flow of the program, ensuring that certain blocks of code are executed only when specific conditions are met.\n",
        "\n",
        "Logic Implementation: Used to implement logical constructs like loops, checks, and conditional execution, making the program dynamic and responsive to different inputs.\n",
        "\n",
        "By using conditional statements, you can create more sophisticated and intelligent programs that can adapt to various situations and inputs."
      ],
      "metadata": {
        "id": "FUX6BJ9ccpfR"
      }
    },
    {
      "cell_type": "code",
      "source": [
        "## QUES 12) How does the elif statement work?"
      ],
      "metadata": {
        "id": "zte3hNZYcprj"
      },
      "execution_count": null,
      "outputs": []
    },
    {
      "cell_type": "markdown",
      "source": [
        "The elif statement in Python stands for \"else if\" and is used in conditional statements to check multiple expressions sequentially. It allows you to handle multiple conditions and execute different blocks of code based on which condition is true.\n",
        "The basic structure of an if-elif-else statement is as follows:\n",
        "\n",
        "\n",
        "if condition1:\n",
        "\n",
        " Block of code to execute if condition1 is true\n",
        "\n",
        "elif condition2:\n",
        "\n",
        " Block of code to execute if condition2 is true\n",
        "\n",
        "elif condition3:\n",
        "\n",
        " Block of code to execute if condition3 is true\n",
        "\n",
        "else:\n",
        "\n",
        " Block of code to execute if none of the above conditions are true\n",
        "Example:\n",
        "temperature = 25\n",
        "\n",
        "if temperature > 30:\n",
        "\n",
        "   print(\"It's a hot day!\")\n",
        "\n",
        "elif temperature > 20:\n",
        "\n",
        "   print(\"It's a warm day!\")\n",
        "\n",
        "elif temperature > 10:\n",
        "\n",
        "   print(\"It's a cool day!\")\n",
        "\n",
        "else:\n",
        "\n",
        "  print(\"It's a cold day!\")\n",
        "  \n",
        "In this example, the program checks each condition in sequence:\n",
        "\n",
        "If temperature is greater than 30, it prints \"It's a hot day!\".\n",
        "\n",
        "If temperature is not greater than 30 but greater than 20, it prints \"It's a warm day!\".\n",
        "\n",
        "If temperature is not greater than 20 but greater than 10, it prints \"It's a cool day!\".\n",
        "\n",
        "If none of the above conditions are true, it prints \"It's a cold day!\".\n",
        "\n",
        " It Works as follows:\n",
        "\n",
        "The if condition is evaluated first. If it's true, the corresponding block of code is executed, and the rest of the conditions are skipped.\n",
        "\n",
        "If the if condition is false, the program moves to the first elif condition and evaluates it. If it's true, the corresponding block of code is executed, and the rest are skipped.\n",
        "\n",
        "This process continues for each elif condition.\n",
        "\n",
        "If none of the if and elif conditions are true, the else block is executed.\n",
        "\n",
        "Key Points:\n",
        "\n",
        "elif allows you to check multiple conditions in a more readable and organized way compared to multiple if statements.\n",
        "\n",
        "Only one block of code among the if, elif, and else blocks will be executed based on the first true condition."
      ],
      "metadata": {
        "id": "bHKT-I1Jcp-K"
      }
    },
    {
      "cell_type": "code",
      "source": [
        "## QUES 13) What is the difference between for and while loops?"
      ],
      "metadata": {
        "id": "XOadf9godKvm"
      },
      "execution_count": null,
      "outputs": []
    },
    {
      "cell_type": "markdown",
      "source": [
        "The primary difference between for and while loops in Python lies in their use cases and how they control the flow of repetition. Both loops allow you to execute a block of code multiple times, but they are suited for different scenarios.\n",
        "\n",
        "for Loop\n",
        "\n",
        "The for loop is used when you have a sequence (such as a list, tuple, string, or range) and you want to iterate over each element in that sequence. It is ideal when you know the number of iterations in advance.\n",
        "Example:\n",
        "\n",
        "fruits = [\"apple\", \"banana\", \"cherry\"]\n",
        "\n",
        "for fruit in fruits:\n",
        "\n",
        "   print(fruit)\n",
        "\n",
        " Output:\n",
        "\n",
        " apple\n",
        "\n",
        " banana\n",
        "\n",
        "cherry\n",
        "\n",
        "In this example, the loop iterates over each element in the fruits list and prints it.\n",
        "\n",
        "while Loop\n",
        "\n",
        "The while loop is used when you want to execute a block of code as long as a certain condition is true. It is ideal when you do not know the number of iterations in advance and the loop's continuation depends on a condition.\n",
        "\n",
        "Example:\n",
        "\n",
        "count = 0\n",
        "\n",
        "while count < 5:\n",
        "\n",
        "  print(count)\n",
        "\n",
        "  count += 1\n",
        "\n",
        " Output:\n",
        "\n",
        " 0\n",
        "\n",
        " 1\n",
        "\n",
        " 2\n",
        "\n",
        " 3\n",
        "\n",
        " 4\n",
        "\n",
        "In this example, the loop continues to execute as long as the condition count < 5 is true. It increments the value of count in each iteration.\n",
        "\n",
        "Key Differences:\n",
        "\n",
        "Use Case:\n",
        "\n",
        "for loop: Best for iterating over sequences or when you know the number of iterations in advance.\n",
        "\n",
        "while loop: Best for situations where the number of iterations is not known and depends on a condition.\n",
        "\n",
        "Syntax:\n",
        "\n",
        "for loop: Uses a sequence to iterate.\n",
        "\n",
        "while loop: Uses a condition to iterate.\n",
        "\n",
        "Control:\n",
        "\n",
        "for loop: Generally easier to read and use for simple iterations.\n",
        "\n",
        "while loop: More flexible and can handle more complex conditions.\n",
        "\n",
        "Example Comparison\n",
        "\n",
        " Using a for loop\n",
        "\n",
        "for i in range(5):\n",
        "\n",
        "  print(i)\n",
        " Output:\n",
        "\n",
        " 0\n",
        "\n",
        " 1\n",
        "\n",
        " 2\n",
        "\n",
        " 3\n",
        "\n",
        " 4\n",
        "\n",
        " Using a while loop\n",
        "\n",
        "i = 0\n",
        "\n",
        "while i < 5:\n",
        "\n",
        "  print(i)\n",
        "\n",
        "  i += 1\n",
        "\n",
        " Output:\n",
        " 0\n",
        "\n",
        " 1\n",
        "\n",
        " 2\n",
        "\n",
        " 3\n",
        "\n",
        " 4"
      ],
      "metadata": {
        "id": "bBb14CvRdLFG"
      }
    },
    {
      "cell_type": "code",
      "source": [
        "## QUES 14) Describe a scenario where a while loop is more suitable than a for loop."
      ],
      "metadata": {
        "id": "sl8-409cdLbO"
      },
      "execution_count": null,
      "outputs": []
    },
    {
      "cell_type": "markdown",
      "source": [
        "A while loop is particularly suitable for situations where the number of iterations is not known in advance and depends on a condition being met. :\n",
        "\n",
        "Scenario: User Authentication\n",
        "Imagine you are writing a program that repeatedly prompts a user to enter their password until they get it right. In this case, the number of attempts is not known beforehand. The program should continue to prompt the user until the correct password is entered.\n",
        "\n",
        "Example:\n",
        "\n",
        "correct_password = \"secret\"\n",
        "\n",
        "user_input = \"\"\n",
        "\n",
        "\n",
        "while user_input != correct_password:\n",
        "\n",
        "  user_input = input(\"Enter your password: \")\n",
        "\n",
        "print(\"Access granted!\")\n",
        "\n",
        "Explanation\n",
        "Condition-Based Iteration: The loop continues to run as long as user_input is not equal to correct_password. This makes the while loop suitable because the condition controls the loop's execution.\n",
        "\n",
        "Unknown Iterations: The number of attempts the user might need to enter the correct password is not known. It could be one attempt or many.\n",
        "\n",
        "Flexibility: The while loop provides the flexibility to continue prompting the user until the correct password is entered, without needing to know the number of iterations in advance.\n",
        "\n",
        "Comparison with for Loop\n",
        "A for loop would not be appropriate here because it typically iterates over a sequence or a range with a known number of iterations. Since the number of attempts required to enter the correct password is unknown, a for loop would not offer the same flexibility.\n",
        "\n",
        "This scenario demonstrates how a while loop is more suitable when the loop's continuation depends on a condition that can vary in terms of how many times it needs to execute."
      ],
      "metadata": {
        "id": "UBcuiBlbdLqT"
      }
    },
    {
      "cell_type": "markdown",
      "source": [
        "PRACTICAL QUESTIONS"
      ],
      "metadata": {
        "id": "7vDPcFzXLe0F"
      }
    },
    {
      "cell_type": "code",
      "source": [
        "## QUES 1)  Write a Python program to print \"Hello, World!\n",
        "print(\"Hello, World!\")"
      ],
      "metadata": {
        "id": "JMheNrT4Lj_0",
        "colab": {
          "base_uri": "https://localhost:8080/"
        },
        "outputId": "a2503492-675a-4eeb-e834-6c95a444fa59"
      },
      "execution_count": null,
      "outputs": [
        {
          "output_type": "stream",
          "name": "stdout",
          "text": [
            "Hello, World!\n"
          ]
        }
      ]
    },
    {
      "cell_type": "code",
      "source": [
        "##  QUES 2)  Write a Python program that displays your name and age\n",
        "# Define variables for name and age\n",
        "name = \"abc\"\n",
        "age = 25\n",
        "\n",
        "# Print name and age\n",
        "print(\"Name:\", name)\n",
        "print(\"Age:\", age)"
      ],
      "metadata": {
        "colab": {
          "base_uri": "https://localhost:8080/"
        },
        "id": "n-8rnp5HLoXc",
        "outputId": "79b5c764-97f3-49d1-e0a0-eae24d9fff60"
      },
      "execution_count": null,
      "outputs": [
        {
          "output_type": "stream",
          "name": "stdout",
          "text": [
            "Name: abc\n",
            "Age: 25\n"
          ]
        }
      ]
    },
    {
      "cell_type": "code",
      "source": [
        "##  QUES 3) Write code to print all the pre-defined keywords in Python using the keyword library.\n",
        "import keyword\n",
        "\n",
        "# Print all predefined keywords\n",
        "print(keyword.kwlist)"
      ],
      "metadata": {
        "id": "EgvB_1yGLpga",
        "colab": {
          "base_uri": "https://localhost:8080/"
        },
        "outputId": "801524c8-0204-4b75-832c-3045a6fc18b3"
      },
      "execution_count": null,
      "outputs": [
        {
          "output_type": "stream",
          "name": "stdout",
          "text": [
            "['False', 'None', 'True', 'and', 'as', 'assert', 'async', 'await', 'break', 'class', 'continue', 'def', 'del', 'elif', 'else', 'except', 'finally', 'for', 'from', 'global', 'if', 'import', 'in', 'is', 'lambda', 'nonlocal', 'not', 'or', 'pass', 'raise', 'return', 'try', 'while', 'with', 'yield']\n"
          ]
        }
      ]
    },
    {
      "cell_type": "code",
      "source": [
        "##  QUES 4) Write a program that checks if a given word is a Python keyword.\n",
        "import keyword\n",
        "\n",
        "# Function to check if a word is a Python keyword\n",
        "def is_keyword(word):\n",
        "    return keyword.iskeyword(word)\n",
        "\n",
        "# Test the function\n",
        "word = input(\"Enter a word: \")\n",
        "if is_keyword(word):\n",
        "    print(f'\"{word}\" is a Python keyword.')\n",
        "else:\n",
        "    print(f'\"{word}\" is not a Python keyword.')\n"
      ],
      "metadata": {
        "id": "HqQ6OgaPLqm9",
        "colab": {
          "base_uri": "https://localhost:8080/"
        },
        "outputId": "fddf2ed8-8e88-418f-bb7c-f8606f6db78d"
      },
      "execution_count": null,
      "outputs": [
        {
          "output_type": "stream",
          "name": "stdout",
          "text": [
            "Enter a word: await\n",
            "\"await\" is a Python keyword.\n"
          ]
        }
      ]
    },
    {
      "cell_type": "code",
      "source": [
        "##  QUES 5) Create a list and tuple in Python, and demonstrate how attempting to change an element works differently\n",
        "## for each\n",
        "# Creating a list\n",
        "my_list = [1, 2, 3, 4, 5]\n",
        "print(\"Original list:\", my_list)\n",
        "\n",
        "# Changing an element in the list\n",
        "my_list[2] = 10\n",
        "print(\"List after modifying an element:\", my_list)\n",
        "\n",
        "# Creating a tuple\n",
        "my_tuple = (1, 2, 3, 4, 5)\n",
        "print(\"Original tuple:\", my_tuple)\n",
        "\n",
        "# Attempting to change an element in the tuple (this will raise an error)\n",
        "try:\n",
        "    my_tuple[2] = 10\n",
        "except TypeError as e:\n",
        "    print(\"Error when trying to modify tuple:\", e)\n",
        "\n"
      ],
      "metadata": {
        "id": "0_KDlAOwLsSz",
        "colab": {
          "base_uri": "https://localhost:8080/"
        },
        "outputId": "35fe231c-12a1-4a60-c7b1-e2ee9116f538"
      },
      "execution_count": null,
      "outputs": [
        {
          "output_type": "stream",
          "name": "stdout",
          "text": [
            "Original list: [1, 2, 3, 4, 5]\n",
            "List after modifying an element: [1, 2, 10, 4, 5]\n",
            "Original tuple: (1, 2, 3, 4, 5)\n",
            "Error when trying to modify tuple: 'tuple' object does not support item assignment\n"
          ]
        }
      ]
    },
    {
      "cell_type": "code",
      "source": [
        "##  QUES 6) Write a function to demonstrate the behavior of mutable and immutable arguments.\n",
        "# Function to demonstrate mutable and immutable arguments\n",
        "def modify_arguments(mutable_arg, immutable_arg):\n",
        "    # Attempting to modify the mutable argument (a list)\n",
        "    mutable_arg.append(10)\n",
        "    print(\"Inside function, modified mutable_arg:\", mutable_arg)\n",
        "\n",
        "    # Attempting to modify the immutable argument (an integer)\n",
        "    immutable_arg += 10\n",
        "    print(\"Inside function, modified immutable_arg:\", immutable_arg)\n",
        "\n",
        "# Creating a mutable argument (list) and an immutable argument (integer)\n",
        "my_list = [1, 2, 3]\n",
        "my_int = 5\n",
        "\n",
        "print(\"Before function call, my_list:\", my_list)\n",
        "print(\"Before function call, my_int:\", my_int)\n",
        "\n",
        "# Calling the function with the mutable and immutable arguments\n",
        "modify_arguments(my_list, my_int)\n",
        "\n",
        "print(\"After function call, my_list:\", my_list)\n",
        "print(\"After function call, my_int:\", my_int)\n",
        "\n",
        "\n"
      ],
      "metadata": {
        "id": "Ckc_olCTN9Ni",
        "colab": {
          "base_uri": "https://localhost:8080/"
        },
        "outputId": "f26602cd-f2da-43b3-cc76-0f392af617dc"
      },
      "execution_count": null,
      "outputs": [
        {
          "output_type": "stream",
          "name": "stdout",
          "text": [
            "Before function call, my_list: [1, 2, 3]\n",
            "Before function call, my_int: 5\n",
            "Inside function, modified mutable_arg: [1, 2, 3, 10]\n",
            "Inside function, modified immutable_arg: 15\n",
            "After function call, my_list: [1, 2, 3, 10]\n",
            "After function call, my_int: 5\n"
          ]
        }
      ]
    },
    {
      "cell_type": "code",
      "source": [
        "##  QUES 7) Write a function to demonstrate the behavior of mutable and immutable arguments.\n",
        "# Function to demonstrate mutable and immutable arguments\n",
        "def modify_arguments(mutable_arg, immutable_arg):\n",
        "    # Attempting to modify the mutable argument (a list)\n",
        "    mutable_arg.append(10)\n",
        "    print(\"Inside function, modified mutable_arg:\", mutable_arg)\n",
        "\n",
        "    # Attempting to modify the immutable argument (an integer)\n",
        "    immutable_arg += 10\n",
        "    print(\"Inside function, modified immutable_arg:\", immutable_arg)\n",
        "\n",
        "# Creating a mutable argument (list) and an immutable argument (integer)\n",
        "my_list = [1, 2, 3]\n",
        "my_int = 5\n",
        "\n",
        "print(\"Before function call, my_list:\", my_list)\n",
        "print(\"Before function call, my_int:\", my_int)\n",
        "\n",
        "# Calling the function with the mutable and immutable arguments\n",
        "modify_arguments(my_list, my_int)\n",
        "\n",
        "print(\"After function call, my_list:\", my_list)\n",
        "print(\"After function call, my_int:\", my_int)\n"
      ],
      "metadata": {
        "id": "dhtpGPeyOAUv",
        "colab": {
          "base_uri": "https://localhost:8080/"
        },
        "outputId": "7ef68b40-cb02-472d-affb-f73b2a03efb9"
      },
      "execution_count": null,
      "outputs": [
        {
          "output_type": "stream",
          "name": "stdout",
          "text": [
            "Before function call, my_list: [1, 2, 3]\n",
            "Before function call, my_int: 5\n",
            "Inside function, modified mutable_arg: [1, 2, 3, 10]\n",
            "Inside function, modified immutable_arg: 15\n",
            "After function call, my_list: [1, 2, 3, 10]\n",
            "After function call, my_int: 5\n"
          ]
        }
      ]
    },
    {
      "cell_type": "code",
      "source": [
        "##  QUES 8) Write a program to demonstrate the use of logical operators.\n",
        "def logical_operators_demo(a, b, c):\n",
        "    print(f'a = {a}, b = {b}, c = {c}')\n",
        "\n",
        "    # Using the 'and' operator\n",
        "    if a > b and b > c:\n",
        "        print('Both conditions are true: a > b and b > c')\n",
        "    else:\n",
        "        print('At least one of the conditions is false: a > b and b > c')\n",
        "\n",
        "    # Using the 'or' operator\n",
        "    if a > b or b > c:\n",
        "        print('At least one of the conditions is true: a > b or b > c')\n",
        "    else:\n",
        "        print('Both conditions are false: a > b and b > c')\n",
        "\n",
        "    # Using the 'not' operator\n",
        "    if not (a < b):\n",
        "        print('Condition is false: a < b, but with not operator it becomes true')\n",
        "    else:\n",
        "        print('Condition is true: a < b, but with not operator it becomes false')\n",
        "\n",
        "# Test the function with some values\n",
        "logical_operators_demo(5, 3, 1)\n",
        "logical_operators_demo(2, 4, 6)\n",
        "\n"
      ],
      "metadata": {
        "id": "pAzDpWo8OKSy",
        "colab": {
          "base_uri": "https://localhost:8080/"
        },
        "outputId": "191c1678-2ecd-41e1-befb-51b316573674"
      },
      "execution_count": null,
      "outputs": [
        {
          "output_type": "stream",
          "name": "stdout",
          "text": [
            "a = 5, b = 3, c = 1\n",
            "Both conditions are true: a > b and b > c\n",
            "At least one of the conditions is true: a > b or b > c\n",
            "Condition is false: a < b, but with not operator it becomes true\n",
            "a = 2, b = 4, c = 6\n",
            "At least one of the conditions is false: a > b and b > c\n",
            "Both conditions are false: a > b and b > c\n",
            "Condition is true: a < b, but with not operator it becomes false\n"
          ]
        }
      ]
    },
    {
      "cell_type": "code",
      "source": [
        "##  QUES 9) Write a Python program to convert user input from string to integer, float, and boolean types.\n",
        "# Function to convert input to different types\n",
        "def convert_input(user_input):\n",
        "    # Convert to integer\n",
        "    try:\n",
        "        int_value = int(user_input)\n",
        "    except ValueError:\n",
        "        int_value = \"Invalid integer\"\n",
        "\n",
        "    # Convert to float\n",
        "    try:\n",
        "        float_value = float(user_input)\n",
        "    except ValueError:\n",
        "        float_value = \"Invalid float\"\n",
        "\n",
        "    # Convert to boolean\n",
        "    bool_value = bool(user_input)  # Any non-empty string is True\n",
        "\n",
        "    return int_value, float_value, bool_value\n",
        "\n",
        "# Get user input\n",
        "user_input = input(\"Enter a value: \")\n",
        "\n",
        "# Convert the input\n",
        "int_value, float_value, bool_value = convert_input(user_input)\n",
        "\n",
        "# Print the results\n",
        "print(f\"String input: {user_input}\")\n",
        "print(f\"Integer conversion: {int_value}\")\n",
        "print(f\"Float conversion: {float_value}\")\n",
        "print(f\"Boolean conversion: {bool_value}\")\n"
      ],
      "metadata": {
        "id": "2h3_IhxPOGjf",
        "colab": {
          "base_uri": "https://localhost:8080/"
        },
        "outputId": "9e79d095-f964-4011-bcf1-97b7f40e20e7"
      },
      "execution_count": null,
      "outputs": [
        {
          "output_type": "stream",
          "name": "stdout",
          "text": [
            "Enter a value: 1234\n",
            "String input: 1234\n",
            "Integer conversion: 1234\n",
            "Float conversion: 1234.0\n",
            "Boolean conversion: True\n"
          ]
        }
      ]
    },
    {
      "cell_type": "code",
      "source": [
        "##  QUES 10) Write code to demonstrate type casting with list elements.\n",
        "# Original list with elements of different types\n",
        "original_list = ['1', '2.5', '3', 'True', 'False']\n",
        "\n",
        "# Type casting the list elements\n",
        "casted_list = []\n",
        "for element in original_list:\n",
        "    # Try to cast to integer\n",
        "    try:\n",
        "        casted_element = int(element)\n",
        "    except ValueError:\n",
        "        # Try to cast to float\n",
        "        try:\n",
        "            casted_element = float(element)\n",
        "        except ValueError:\n",
        "            # Try to cast to boolean\n",
        "            if element.lower() == 'true':\n",
        "                casted_element = True\n",
        "            elif element.lower() == 'false':\n",
        "                casted_element = False\n",
        "            else:\n",
        "                casted_element = element  # Keep as string if all casts fail\n",
        "    casted_list.append(casted_element)\n",
        "\n",
        "# Printing the original and casted lists\n",
        "print(\"Original list:\", original_list)\n",
        "print(\"Casted list:\", casted_list)\n",
        "\n",
        "# Demonstrating the types of casted elements\n",
        "print(\"Types of casted elements:\")\n",
        "for element in casted_list:\n",
        "    print(f\"{element} is of type {type(element)}\")\n"
      ],
      "metadata": {
        "id": "41w-Lg--ONlv",
        "colab": {
          "base_uri": "https://localhost:8080/"
        },
        "outputId": "077f4fb9-ae2f-4b21-a31e-ebdc417a9032"
      },
      "execution_count": null,
      "outputs": [
        {
          "output_type": "stream",
          "name": "stdout",
          "text": [
            "Original list: ['1', '2.5', '3', 'True', 'False']\n",
            "Casted list: [1, 2.5, 3, True, False]\n",
            "Types of casted elements:\n",
            "1 is of type <class 'int'>\n",
            "2.5 is of type <class 'float'>\n",
            "3 is of type <class 'int'>\n",
            "True is of type <class 'bool'>\n",
            "False is of type <class 'bool'>\n"
          ]
        }
      ]
    },
    {
      "cell_type": "code",
      "source": [
        "##  QUES 11) Write a program that checks if a number is positive, negative, or zero.\n",
        "# Function to check if a number is positive, negative, or zero\n",
        "def check_number(num):\n",
        "    if num > 0:\n",
        "        return \"The number is positive.\"\n",
        "    elif num < 0:\n",
        "        return \"The number is negative.\"\n",
        "    else:\n",
        "        return \"The number is zero.\"\n",
        "\n",
        "# Get user input\n",
        "number = float(input(\"Enter a number: \"))\n",
        "\n",
        "# Check the number and print the result\n",
        "result = check_number(number)\n",
        "print(result)\n",
        "\n",
        "\n",
        "\n"
      ],
      "metadata": {
        "id": "cuMGbdgvOP8v",
        "colab": {
          "base_uri": "https://localhost:8080/"
        },
        "outputId": "747620af-09bd-4b9a-ec80-dcfae7aa34ef"
      },
      "execution_count": null,
      "outputs": [
        {
          "output_type": "stream",
          "name": "stdout",
          "text": [
            "Enter a number: 574458\n",
            "The number is positive.\n"
          ]
        }
      ]
    },
    {
      "cell_type": "code",
      "source": [
        "##  QUES 12)  Write a for loop to print numbers from 1 to 10.\n",
        "for i in range(1, 11):\n",
        "    print(i)\n"
      ],
      "metadata": {
        "id": "e_UxAvdrOgq1",
        "colab": {
          "base_uri": "https://localhost:8080/"
        },
        "outputId": "ac826815-07f9-465c-f849-77759957a254"
      },
      "execution_count": null,
      "outputs": [
        {
          "output_type": "stream",
          "name": "stdout",
          "text": [
            "1\n",
            "2\n",
            "3\n",
            "4\n",
            "5\n",
            "6\n",
            "7\n",
            "8\n",
            "9\n",
            "10\n"
          ]
        }
      ]
    },
    {
      "cell_type": "code",
      "source": [
        "##  QUES 13) Write a Python program to find the sum of all even numbers between 1 and 50.\n",
        "# Initialize the sum variable\n",
        "sum_of_evens = 0\n",
        "\n",
        "# Iterate through the range 1 to 50\n",
        "for number in range(1, 51):\n",
        "    # Check if the number is even\n",
        "    if number % 2 == 0:\n",
        "        sum_of_evens += number\n",
        "\n",
        "# Print the result\n",
        "print(\"The sum of all even numbers between 1 and 50 is:\", sum_of_evens)\n"
      ],
      "metadata": {
        "id": "nKDpPSE2OlOt",
        "colab": {
          "base_uri": "https://localhost:8080/"
        },
        "outputId": "1a38444d-81dc-4040-bf5b-9929c4d5ecbe"
      },
      "execution_count": null,
      "outputs": [
        {
          "output_type": "stream",
          "name": "stdout",
          "text": [
            "The sum of all even numbers between 1 and 50 is: 650\n"
          ]
        }
      ]
    },
    {
      "cell_type": "code",
      "source": [
        "##  QUES 14) Write a program to reverse a string using a while loop.\n",
        "# Function to reverse a string using a while loop\n",
        "def reverse_string(s):\n",
        "    # Initialize an empty string to store the reversed string\n",
        "    reversed_s = \"\"\n",
        "    # Initialize a variable to keep track of the index\n",
        "    index = len(s) - 1\n",
        "\n",
        "    # Loop until index is greater than or equal to 0\n",
        "    while index >= 0:\n",
        "        reversed_s += s[index]\n",
        "        index -= 1\n",
        "\n",
        "    return reversed_s\n",
        "\n",
        "# Get user input\n",
        "user_input = input(\"Enter a string: \")\n",
        "\n",
        "# Reverse the string\n",
        "reversed_string = reverse_string(user_input)\n",
        "\n",
        "# Print the reversed string\n",
        "print(\"Reversed string:\", reversed_string)\n",
        "\n"
      ],
      "metadata": {
        "id": "F-IK43llOrI5",
        "colab": {
          "base_uri": "https://localhost:8080/"
        },
        "outputId": "c84a6623-3d19-44b4-fc75-b6ceb417fefb"
      },
      "execution_count": null,
      "outputs": [
        {
          "output_type": "stream",
          "name": "stdout",
          "text": [
            "Enter a string: hello world\n",
            "Reversed string: dlrow olleh\n"
          ]
        }
      ]
    },
    {
      "cell_type": "code",
      "source": [
        "##  QUES 15) Write a Python program to calculate the factorial of a number provided by the user using a while loop.\n",
        "# Function to calculate the factorial using a while loop\n",
        "def factorial(n):\n",
        "    result = 1\n",
        "    while n > 0:\n",
        "        result *= n\n",
        "        n =n - 1\n",
        "    return result\n",
        "\n",
        "# Get user input\n",
        "number = int(input(\"Enter a number: \"))\n",
        "\n",
        "# Calculate the factorial\n",
        "factorial_result = factorial(number)\n",
        "\n",
        "# Print the result\n",
        "print(f\"The factorial of {number} is {factorial_result}\")\n"
      ],
      "metadata": {
        "id": "sTHRoe72Ovn4",
        "colab": {
          "base_uri": "https://localhost:8080/"
        },
        "outputId": "ad55ec52-1b5f-4e67-f3c7-072b58c09052"
      },
      "execution_count": 1,
      "outputs": [
        {
          "output_type": "stream",
          "name": "stdout",
          "text": [
            "Enter a number: 6\n",
            "The factorial of 6 is 720\n"
          ]
        }
      ]
    }
  ]
}