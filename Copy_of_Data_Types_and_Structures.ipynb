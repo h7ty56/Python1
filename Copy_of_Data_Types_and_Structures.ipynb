{
  "nbformat": 4,
  "nbformat_minor": 0,
  "metadata": {
    "colab": {
      "provenance": [],
      "include_colab_link": true
    },
    "kernelspec": {
      "name": "python3",
      "display_name": "Python 3"
    },
    "language_info": {
      "name": "python"
    }
  },
  "cells": [
    {
      "cell_type": "markdown",
      "metadata": {
        "id": "view-in-github",
        "colab_type": "text"
      },
      "source": [
        "<a href=\"https://colab.research.google.com/github/h7ty56/Python1/blob/main/Copy_of_Data_Types_and_Structures.ipynb\" target=\"_parent\"><img src=\"https://colab.research.google.com/assets/colab-badge.svg\" alt=\"Open In Colab\"/></a>"
      ]
    },
    {
      "cell_type": "markdown",
      "source": [
        "THEORITICAL QUESTION"
      ],
      "metadata": {
        "id": "vioYGttq2YWU"
      }
    },
    {
      "cell_type": "code",
      "execution_count": null,
      "metadata": {
        "id": "khUwMjxm2HkW"
      },
      "outputs": [],
      "source": [
        "## QUES 1)  What are data structures, and why are they important?"
      ]
    },
    {
      "cell_type": "markdown",
      "source": [
        "Data structures are organized ways of storing and managing data in computer memory to enable efficient access, modification, and organization. They're crucial because they:\n",
        "\n",
        "Optimize Performance: Different data structures (arrays, linked lists, trees, hash tables) provide varying time and space complexities for operations like searching, inserting, and deleting data.\n",
        "Enable Complex Algorithms: Many algorithms rely on specific data structures to function efficiently. For example, graph algorithms use adjacency lists, and search algorithms leverage binary trees.\n",
        "Manage Memory: Data structures help programmers allocate and manage memory resources effectively, reducing computational overhead.\n",
        "Solve Real-World Problems: They model complex scenarios in software—like representing social networks (graphs), managing cache systems (hash tables), or organizing hierarchical information (trees).\n",
        "\n",
        "Common data structures include:\n",
        "\n",
        "Arrays: Fixed-size, contiguous memory locations\n",
        "Linked Lists: Dynamically sized, non-contiguous elements\n",
        "Stacks: Last-in, first-out (LIFO) collections\n",
        "Queues: First-in, first-out (FIFO) collections\n",
        "Trees: Hierarchical structures with parent-child relationships\n",
        "Hash Tables: Key-value pair storage with fast lookup."
      ],
      "metadata": {
        "id": "QWR0tM1bD1nX"
      }
    },
    {
      "cell_type": "code",
      "source": [
        "## QUES 2) Explain the difference between mutable and immutable data types with examples."
      ],
      "metadata": {
        "id": "A1V6kQJpFENs"
      },
      "execution_count": null,
      "outputs": []
    },
    {
      "cell_type": "markdown",
      "source": [
        " Mutable and immutable data types differ in how they can be modified after creation. Mutable types like lists, dictionaries, and sets can be changed in place - you can add, remove, or modify their elements while keeping the same object in memory. For example, you can append items to a list or update dictionary values.\n",
        "Immutable types like strings, tuples, and integers cannot be modified after creation. Any operation that appears to modify them actually creates a new object in memory. For instance, when you concatenate two strings, Python creates a new string object rather than modifying the original.\n",
        "This distinction affects how these types behave when passed to functions and used as dictionary keys. Immutable types are hashable and can be dictionary keys, while mutable types cannot. It also impacts memory usage and performance, since modifying mutable types is generally more efficient than creating new immutable objects."
      ],
      "metadata": {
        "id": "rSWUeuO0cCKk"
      }
    },
    {
      "cell_type": "markdown",
      "source": [],
      "metadata": {
        "id": "R7gG2Y2CFVxG"
      }
    },
    {
      "cell_type": "code",
      "source": [
        "## QUES 3) What are the main differences between lists and tuples in Python?"
      ],
      "metadata": {
        "id": "4JIf5JayFVgs"
      },
      "execution_count": null,
      "outputs": []
    },
    {
      "cell_type": "markdown",
      "source": [
        " The key differences between lists and tuples in Python are:\n",
        "Mutability: Lists are mutable (can be modified after creation), while tuples are immutable (cannot be changed once created). You can add, remove, or modify elements in a list, but not in a tuple.\n",
        "Syntax: Lists use square brackets [1, 2, 3], while tuples use parentheses (1, 2, 3).\n",
        "Performance: Tuples are slightly more memory-efficient and faster to access than lists because of their immutability.\n",
        "Usage: Lists are preferred for collections that might change, like a shopping cart. Tuples are better for fixed collections, like coordinates (x, y) or returning multiple values from functions.\n",
        "Dictionary Keys: Tuples can be used as dictionary keys because they're immutable and hashable, while lists cannot.\n",
        "Methods: Lists have more built-in methods (append, extend, insert, remove) for modification, while tuples have fewer methods since they can't be changed. for e.g. Lists (Mutable): fruits = ['apple', 'banana']\n",
        "fruits.append('orange')    fruits[0] = 'pear'         fruits.remove('banana')    Tuples (Immutable):  coordinates = (3, 4)\n",
        "coordinates[0] = 5        coordinates.append(5)"
      ],
      "metadata": {
        "id": "vMwTFcjIFVTj"
      }
    },
    {
      "cell_type": "code",
      "source": [
        "## QUES 4) Describe how dictionaries store data."
      ],
      "metadata": {
        "id": "wWMzVIWjFVEz"
      },
      "execution_count": null,
      "outputs": []
    },
    {
      "cell_type": "markdown",
      "source": [
        " Python dictionaries store data as key-value pairs using a hash table implementation. Each key is hashed to generate a numerical value that determines where the key-value pair is stored in memory.\n",
        "Keys must be immutable (strings, numbers, tuples) since their hash values need to remain constant. Example structure: = {\n",
        "    'name': 'John',        'age': 20,             'grades': [85, 90] } object.\n",
        "print(student['name']) # Adding new key-value pair\n",
        "student['email'] = 'john@example.com' When collisions occur (different keys producing the same hash), Python uses open addressing to find the next available slot in memory."
      ],
      "metadata": {
        "id": "bCJqhuMNFU2y"
      }
    },
    {
      "cell_type": "code",
      "source": [
        "## QUES 5) Why might you use a set instead of a list in Python?"
      ],
      "metadata": {
        "id": "KPkqfpm8FUYn"
      },
      "execution_count": null,
      "outputs": []
    },
    {
      "cell_type": "markdown",
      "source": [
        "Sets are preferred when you need:\n",
        "\n",
        "Only unique elements (no duplicates)\n",
        "Fast membership testing - O(1) vs O(n) for lists\n",
        "Mathematical operations like union, intersection, difference\n",
        "\n",
        "Example: # Removing duplicates\n",
        "numbers = set([1, 2, 2, 3, 3])  # Set operations\n",
        "set1 = {1, 2, 3}\n",
        "set2 = {3, 4, 5}\n",
        "print(set1 & set2)  Use lists when order matters or duplicates are needed."
      ],
      "metadata": {
        "id": "ezZFo66rFUGC"
      }
    },
    {
      "cell_type": "code",
      "source": [
        "## QUES 6) What is a string in Python, and how is it different from a list."
      ],
      "metadata": {
        "id": "e2bJoCLuFT3P"
      },
      "execution_count": null,
      "outputs": []
    },
    {
      "cell_type": "markdown",
      "source": [
        " A string is an immutable sequence of Unicode characters, while a list is a mutable sequence of any Python objects.\n",
        "Key differences: # Strings are immutable\n",
        "text = \"hello\"\n",
        "text[0] = \"H\"    # Error  # Lists are mutable\n",
        "chars = ['h','e','l','l','o']\n",
        "chars[0] = 'H'   # Works    # String operations  also create new strings\n",
        "text = \"hello\"\n",
        "new_text = text + \" world\"   Both support indexing, slicing, and iteration, but strings are specialized for text handling while lists are general-purpose containers."
      ],
      "metadata": {
        "id": "F_n0iFgOFTrI"
      }
    },
    {
      "cell_type": "code",
      "source": [
        "## QUES 7) How do tuples ensure data integrity in Python?"
      ],
      "metadata": {
        "id": "lj2gfapUFTeK"
      },
      "execution_count": null,
      "outputs": []
    },
    {
      "cell_type": "markdown",
      "source": [
        "Tuples ensure data integrity in Python through their immutable nature, which provides several key advantages:\n",
        "Key Mechanisms of Data Integrity\n",
        "Unchangeable Contents: Once a tuple is created, its elements cannot be modified, added, or removed\n",
        "Consistent State: Tuples maintain a constant state throughout a program's execution, reducing the risk of unintended data modifications.\n",
        "The immutability of tuples acts as a built-in safeguard, making them an excellent choice for maintaining data integrity in Python programs6. By design, they protect against unexpected changes, thereby ensuring the reliability and consistency of stored data"
      ],
      "metadata": {
        "id": "CilOe2WYFgYC"
      }
    },
    {
      "cell_type": "code",
      "source": [
        "## QUES 8) What is a hash table, and how does it relate to dictionaries in Python?"
      ],
      "metadata": {
        "id": "bCWMhKLKFfet"
      },
      "execution_count": null,
      "outputs": []
    },
    {
      "cell_type": "markdown",
      "source": [
        " A hash table is a data structure that stores data in an associative manner, where each data value has its own unique index value, enabling fast data access. It maps keys to values using a hash function, which converts data of arbitrary length to a fixed length. In a well-dimensioned hash table, the average time complexity for each lookup is independent of the number of elements stored in the table\n",
        "Hash Tables and Python Dictionaries\n",
        "In Python, dictionaries are implemented using hash tables. The keys in a dictionary are generated by a hash function, which produces a unique result for each unique value supplied to it\n",
        "Hash tables are the most commonly used data structure for implementing associative arrays and feature average search times.\n",
        "\n",
        "# Creating a dictionary (hash table)\n",
        "student_grades = {\n",
        "    \"Alice\": 95,    # Key: \"Alice\", Value: 95\n",
        "    \"Bob\": 87,      # Key: \"Bob\", Value: 87\n",
        "    \"Charlie\": 92   # Key: \"Charlie\", Value: 92\n",
        "}\n",
        "\n",
        "# Hash function demonstration\n",
        "print(hash(\"Alice\"))  # Generates a unique hash value\n",
        "print(hash(\"Bob\"))    # Different hash value"
      ],
      "metadata": {
        "id": "1ci_gcMrFfOW"
      }
    },
    {
      "cell_type": "code",
      "source": [
        "## QUES 9) Can lists contain different data types in Python?"
      ],
      "metadata": {
        "id": "AZklpj0VFfAY"
      },
      "execution_count": null,
      "outputs": []
    },
    {
      "cell_type": "markdown",
      "source": [
        " Yes, a list in Python can contain items of different data types. Lists are versatile and can store various types such as strings, integers, and boolean values within the same list.\n",
        "For example:\n",
        "python\n",
        "mylist = [\"apple\", 34, True]\n",
        "print(mylist)\n",
        "This list contains a string (\"apple\"), an integer (34), and a boolean value (True).\n",
        "Python lists are dynamic, mutable arrays that can hold an ordered collection of items. This means you can change, add, and remove items in a list after it has been created. Each item in the list is separated by a comma, and the entire list is enclosed in square brackets. Lists can also contain expressions that can be evaluated elements = ['Hydrogen', 1,\n",
        "1.007825, 'Helium',\n",
        "2, 4.00260]\n",
        "print(elements)\n",
        "In this example, the elements list contains strings, integers, and floating-point values. Boolean values can also be include"
      ],
      "metadata": {
        "id": "ItwepPpvFe1F"
      }
    },
    {
      "cell_type": "code",
      "source": [
        "## QUES 10) Explain why strings are immutable in Python."
      ],
      "metadata": {
        "id": "ZlmIpBHgFec3"
      },
      "execution_count": null,
      "outputs": []
    },
    {
      "cell_type": "markdown",
      "source": [
        "Dictionaries offer several advantages over lists for specific tasks:\n",
        "Efficient Data Retrieval: Dictionaries use a key-value pair structure, allowing for faster and more efficient data retrieval compared to lists. The average time complexity of a dictionary key lookup is due to its implementation as a hash table.\n",
        "Flexibility in Storing Data: Dictionaries provide more flexibility in storing data because each entry consists of a key and a value. This is especially useful when the data can be attributed to a name or item, such as storing the age of school students with their names as keys.\n",
        "Ideal for Lookups: Dictionaries are ideal for scenarios where you need to associate data with unique identifiers and require quick lookups, such as mapping usernames to user data. They are also faster for lookup operations due to the hash mapping of keys.\n",
        "Space Efficiency: Dictionaries in Python require very little space to store data elements compared to lists.\n",
        "Database-Like Operations: Dictionaries mirror a database structure, making them useful for storing and modifying data"
      ],
      "metadata": {
        "id": "9gZ-pcVRFeQn"
      }
    },
    {
      "cell_type": "code",
      "source": [
        "## QUES 11) What advantages do dictionaries offer over lists for certain tasks?"
      ],
      "metadata": {
        "id": "G9vU_Q5rHdxN"
      },
      "execution_count": null,
      "outputs": []
    },
    {
      "cell_type": "markdown",
      "source": [
        "Dictionaries offer several key advantages over lists:\n",
        "\n",
        "Fast Lookup: O(1) time complexity for retrieving values by unique keys, compared to O(n) linear search in lists.\n",
        "Semantic Mapping: Keys provide meaningful associations between data points, unlike list indices.\n",
        "Flexible Storage: Can store mixed data types as values, with keys serving as identifiers.\n",
        "Memory Efficiency: Optimized for key-based access, reducing computational overhead for large datasets.\n",
        "\n",
        "Typical use cases include:\n",
        "\n",
        "Caching results\n",
        "Counting frequencies\n",
        "Representing complex data relationships\n",
        "Creating lookup tables"
      ],
      "metadata": {
        "id": "KzUDzyXgHlvA"
      }
    },
    {
      "cell_type": "code",
      "source": [
        "## QUES 12) Describe a scenario where using a tuple would be preferable over a list."
      ],
      "metadata": {
        "id": "NBEqqdEqH3TF"
      },
      "execution_count": null,
      "outputs": []
    },
    {
      "cell_type": "markdown",
      "source": [
        "Scenario: Representing a Date\n",
        "Suppose you're writing a program that needs to represent dates. You want to store the year, month, and day as a single unit.\n",
        "\n",
        "Why a Tuple is Preferable\n",
        "In this case, using a tuple (year, month, day) is preferable over a list [year, month, day] for several reasons:\n",
        "\n",
        "1. Immutability: Tuples are immutable, which means their contents cannot be changed after creation. This is perfect for representing dates, which are inherently immutable.\n",
        "2. Readability: Tuples are more readable than lists when representing a small, fixed number of values. It's clear that (2022, 12, 25) represents a date, whereas [2022, 12, 25] could represent anything.\n",
        "3. Performance: Tuples are faster and more memory-efficient than lists, especially for small collections of values.\n",
        "\n",
        "Example Code\n",
        "Here's an example of using a tuple to represent a date in Python:\n",
        "\n",
        "\n",
        "from typing import Tuple\n",
        "\n",
        "Date = Tuple[int, int, int]\n",
        "\n",
        "def is_leap_year(date: Date) -> bool:\n",
        "    year, _, _ = date\n",
        "    return year % 4 == 0 and (year % 100 != 0 or year % 400 == 0)\n",
        "\n",
        "date = (2022, 12, 25)\n",
        "print(is_leap_year(date))  # Output: False\n",
        "\n",
        "\n",
        "In this example, we define a Date type alias as a tuple of three integers. We then define a function is_leap_year that takes a Date tuple as input and returns a boolean indicating whether the year is a leap year."
      ],
      "metadata": {
        "id": "1S_sSpADIMjz"
      }
    },
    {
      "cell_type": "code",
      "source": [
        "## QUES 13) How do sets handle duplicate values in Python?"
      ],
      "metadata": {
        "id": "QtKkmvpeKHPV"
      },
      "execution_count": null,
      "outputs": []
    },
    {
      "cell_type": "markdown",
      "source": [
        "In Python, sets automatically handle duplicate values by ignoring them. When you try to add a duplicate value to a set, Python simply ignores it and does not add it again.\n",
        "\n",
        "Example:\n",
        "\n",
        "my_set = {1, 2, 3, 2, 4, 4, 5}\n",
        "print(my_set)  # Output: {1, 2, 3, 4, 5}\n",
        "\n",
        "\n",
        "As you can see, even though we tried to add the values 2 and 4 multiple times, the set only stored each value once.\n",
        "\n",
        "How Sets Handle Duplicate Values Internally:\n",
        "Internally, Python sets use a data structure called a hash table to store their elements. When you try to add a new element to a set, Python calculates the hash value of that element and checks if it already exists in the hash table. If it does, Python ignores the new element and does not add it again.\n",
        "\n",
        "Benefits of Automatic Duplicate Handling:\n",
        "The automatic duplicate handling in Python sets provides several benefits, including:\n",
        "\n",
        "- Efficient storage: Sets only store unique elements, which can help reduce memory usage.\n",
        "- Fast lookups: Sets can quickly check if an element already exists, making lookups and insertions more efficient.\n",
        "- Simplified code: You don't need to worry about checking for duplicates manually, which can simplify your code and reduce errors."
      ],
      "metadata": {
        "id": "nqque7S3KRLW"
      }
    },
    {
      "cell_type": "code",
      "source": [
        "## QUES 14) How does the “in” keyword work differently for lists and dictionaries?"
      ],
      "metadata": {
        "id": "Txqhs-UEKiOG"
      },
      "execution_count": null,
      "outputs": []
    },
    {
      "cell_type": "markdown",
      "source": [
        "The in keyword in Python works differently for lists and dictionaries:\n",
        "\n",
        "Lists\n",
        "For lists, the in keyword checks if a specific value exists within the list. It iterates over the list elements and returns True if the value is found, and False otherwise.\n",
        "\n",
        "Example:\n",
        "\n",
        "my_list = [1, 2, 3, 4, 5]\n",
        "print(3 in my_list)  # Output: True\n",
        "print(6 in my_list)  # Output: False\n",
        "\n",
        "\n",
        "Dictionaries\n",
        "For dictionaries, the in keyword checks if a specific key exists within the dictionary. It does not check for values. It returns True if the key is found, and False otherwise.\n",
        "\n",
        "Example:\n",
        "\n",
        "my_dict = {\"a\": 1, \"b\": 2, \"c\": 3}\n",
        "print(\"a\" in my_dict)  # Output: True\n",
        "print(1 in my_dict)     # Output: False\n",
        "print(\"d\" in my_dict)   # Output: False\n",
        "\n",
        "\n",
        "To check if a value exists in a dictionary, you can use the .values() method:\n",
        "\n",
        "\n",
        "print(1 in my_dict.values())  # Output: True"
      ],
      "metadata": {
        "id": "CxHIZf4wKrcJ"
      }
    },
    {
      "cell_type": "code",
      "source": [
        "## QUES !5) Can you modify the elements of a tuple? Explain why or why not."
      ],
      "metadata": {
        "id": "AV_K8sNfK0qG"
      },
      "execution_count": null,
      "outputs": []
    },
    {
      "cell_type": "markdown",
      "source": [
        "No, you cannot modify the elements of a tuple in Python.\n",
        "\n",
        "Why Tuples Are Immutable\n",
        "Tuples are immutable data structures, meaning their contents cannot be changed after creation. This is because tuples are designed to be lightweight and efficient, and immutability helps achieve these goals.\n",
        "\n",
        "Reasons for Immutability:\n",
        "1. Memory Safety: By making tuples immutable, Python ensures that the data they contain is not accidentally modified, which helps prevent memory-related bugs.\n",
        "2. Thread Safety: Immutable data structures like tuples are thread-safe, meaning they can be safely accessed and shared between multiple threads without fear of data corruption.\n",
        "3. Hashability: Tuples can be used as dictionary keys because they are immutable and can be hashed.\n",
        "\n",
        "Consequences of Immutability:\n",
        "1. Cannot Assign New Values: You cannot assign new values to tuple elements using indexing (e.g., my_tuple[0] = 'new_value').\n",
        "2. Cannot Delete Elements: You cannot delete elements from a tuple using the del statement (e.g., del my_tuple[0]).\n",
        "3. Cannot Modify Elements: You cannot modify tuple elements in place (e.g., my_tuple[0].append('new_value')).\n",
        "\n",
        "Workarounds:\n",
        "If you need to modify a collection of values, consider using a mutable data structure like a list instead of a tuple.\n",
        "\n",
        "\n",
        "# Create a list instead of a tuple\n",
        "my_list = [1, 2, 3]\n",
        "\n",
        "# Modify the list\n",
        "my_list[0] = 'new_value'\n",
        "print(my_list)  # Output: ['new_value', 2, 3]"
      ],
      "metadata": {
        "id": "DGKH7frIK-wb"
      }
    },
    {
      "cell_type": "code",
      "source": [
        "## QUES 16) What is a nested dictionary, and give an example of its use case?"
      ],
      "metadata": {
        "id": "7Ofu7xmVLqRL"
      },
      "execution_count": null,
      "outputs": []
    },
    {
      "cell_type": "markdown",
      "source": [
        "A nested dictionary is a dictionary that contains another dictionary as its value. This allows for a hierarchical organization of data, where each inner dictionary represents a subset of data related to a specific key in the outer dictionary.\n",
        "\n",
        "Example:\n",
        "Suppose we want to store information about students in a university, including their personal details, course enrollment, and grades. We can use a nested dictionary to represent this data:\n",
        "\n",
        "\n",
        "students = {\n",
        "    \"John Doe\": {\n",
        "        \"age\": 20,\n",
        "        \"major\": \"Computer Science\",\n",
        "        \"courses\": {\n",
        "            \"Math 101\": 85,\n",
        "            \"CS 201\": 90,\n",
        "            \"English 102\": 78\n",
        "        }\n",
        "    },\n",
        "    \"Jane Smith\": {\n",
        "        \"age\": 22,\n",
        "        \"major\": \"Biology\",\n",
        "        \"courses\": {\n",
        "            \"Bio 101\": 92,\n",
        "            \"Chem 202\": 88,\n",
        "            \"Psych 301\": 76\n",
        "        }\n",
        "    }\n",
        "}\n",
        "\n",
        "\n",
        "In this example, the outer dictionary students has student names as keys, and the values are inner dictionaries that contain the student's personal details, course enrollment, and grades. The inner dictionaries have course names as keys and grades as values.\n",
        "\n",
        "Use Cases:\n",
        "Nested dictionaries are useful in a variety of scenarios, such as:\n",
        "\n",
        "1. Data organization: Nested dictionaries can help organize complex data into a hierarchical structure, making it easier to access and manipulate.\n",
        "2. Configuration files: Nested dictionaries can be used to represent configuration data, where each inner dictionary represents a specific configuration section.\n",
        "3. Game development: Nested dictionaries can be used to represent game data, such as character stats, inventory, and skills.\n",
        "4. Scientific computing: Nested dictionaries can be used to represent complex scientific data, such as experimental results, simulation parameters, and data analysis outputs."
      ],
      "metadata": {
        "id": "dej8EKoEL7iz"
      }
    },
    {
      "cell_type": "code",
      "source": [
        "## QUES 17) Describe the time complexity of accessing elements in a dictionary."
      ],
      "metadata": {
        "id": "IjOriCG6L8xb"
      },
      "execution_count": null,
      "outputs": []
    },
    {
      "cell_type": "markdown",
      "source": [
        "Accessing elements in a dictionary (also known as a hash table or associative array) has an average time complexity of O(1), making it a very efficient operation.\n",
        "\n",
        "Why O(1)?\n",
        "Dictionaries use a hash function to map keys to indices of a backing array. When you access an element in a dictionary, the following steps occur:\n",
        "\n",
        "1. Hashing: The key is passed through a hash function, which generates a hash code.\n",
        "2. Index calculation: The hash code is used to calculate the index of the backing array where the corresponding value is stored.\n",
        "3. Value retrieval: The value is retrieved from the calculated index.\n",
        "\n",
        "Since the hash function is designed to distribute keys evenly across the backing array, the average time complexity of accessing an element is constant, O(1).\n",
        "\n",
        "Caveats:\n",
        "While the average time complexity is O(1), there are some edge cases to consider:\n",
        "\n",
        "- Hash collisions: When two keys hash to the same index, a collision occurs. In this case, the dictionary may use techniques like chaining or open addressing to resolve the collision, which can increase the time complexity.\n",
        "- Load factor: If the dictionary is highly loaded (i.e., many keys are stored), the time complexity may increase due to the increased likelihood of hash collisions.\n",
        "- Poor hash function: A poorly designed hash function can lead to uneven key distribution, increasing the time complexity.\n",
        "\n",
        "In general, however, accessing elements in a dictionary is a very efficient operation with an average time complexity of O(1)."
      ],
      "metadata": {
        "id": "uIRzFa11MCJC"
      }
    },
    {
      "cell_type": "code",
      "source": [
        "## QUES 18) In what situations are lists preferred over dictionaries."
      ],
      "metadata": {
        "id": "bRcd-4KxMO1D"
      },
      "execution_count": null,
      "outputs": []
    },
    {
      "cell_type": "markdown",
      "source": [
        "Lists are preferred over dictionaries in the following situations:\n",
        "\n",
        "1. Ordered Data\n",
        "When the order of the data matters, lists are a better choice. Lists maintain the insertion order, whereas dictionaries do not (prior to Python 3.7).\n",
        "\n",
        "\n",
        "my_list = [1, 2, 3, 4, 5]\n",
        "print(my_list)  # Output: [1, 2, 3, 4, 5]\n",
        "\n",
        "\n",
        "2. Indexed Access\n",
        "When you need to access elements by their index, lists are more suitable. Lists support indexing, slicing, and other sequence operations.\n",
        "\n",
        "\n",
        "my_list = [1, 2, 3, 4, 5]\n",
        "print(my_list[0])  # Output: 1\n",
        "\n",
        "\n",
        "3. Homogeneous Data\n",
        "When working with homogeneous data (i.e., data of the same type), lists are a better fit. Lists can store elements of any data type, but they are most useful when storing elements of the same type.\n",
        "\n",
        "\n",
        "my_list = [1, 2, 3, 4, 5]  # homogeneous data\n",
        "\n",
        "\n",
        "4. Mutable Data\n",
        "When the data needs to be modified frequently, lists are preferred. Lists are mutable, meaning they can be modified after creation.\n",
        "\n",
        "\n",
        "my_list = [1, 2, 3, 4, 5]\n",
        "my_list.append(6)\n",
        "print(my_list)  # Output: [1, 2, 3, 4, 5, 6]\n",
        "\n",
        "\n",
        "5. Performance-Critical Code\n",
        "In performance-critical code, lists can be faster than dictionaries due to their simpler implementation and lower overhead.\n",
        "\n",
        "\n",
        "import timeit\n",
        "\n",
        "def list_append():\n",
        "    my_list = []\n",
        "    for i in range(100000):\n",
        "        my_list.append(i)\n",
        "\n",
        "def dict_set():\n",
        "    my_dict = {}\n",
        "    for i in range(100000):\n",
        "        my_dict[i] = i\n",
        "\n",
        "print(timeit.timeit(list_append, number=10))  # faster\n",
        "print(timeit.timeit(dict_set, number=10))     # slower\n"
      ],
      "metadata": {
        "id": "hYJ4Ata2MXc2"
      }
    },
    {
      "cell_type": "code",
      "source": [
        "## QUES 19) Why are dictionaries considered unordered, and how does that affect data retrieval?"
      ],
      "metadata": {
        "id": "1gB6OSw-MmAx"
      },
      "execution_count": null,
      "outputs": []
    },
    {
      "cell_type": "markdown",
      "source": [
        "Dictionaries are considered unordered because, prior to Python 3.7, the order in which key-value pairs were stored and retrieved was not guaranteed to be the same as the order in which they were inserted.\n",
        "\n",
        "Why Dictionaries Were Unordered\n",
        "Dictionaries were implemented as hash tables, which are data structures that store key-value pairs in an array using a hash function to map keys to indices. The hash function does not preserve the insertion order, so the order of the key-value pairs in the dictionary was arbitrary.\n",
        "\n",
        "Effects on Data Retrieval\n",
        "The unordered nature of dictionaries had several implications for data retrieval:\n",
        "\n",
        "1. Iteration Order: When iterating over a dictionary using the .keys(), .values(), or .items() methods, the order of the key-value pairs was not guaranteed to be consistent.\n",
        "2. Indexing: Dictionaries did not support indexing, as the order of the key-value pairs was not fixed.\n",
        "3. Sorting: To retrieve data in a specific order, dictionaries had to be sorted explicitly using the sorted() function or other sorting methods.\n",
        "\n",
        "Changes in Python 3.7+\n",
        "Starting from Python 3.7, dictionaries maintain their insertion order. This means that when iterating over a dictionary, the key-value pairs are returned in the order they were inserted.\n",
        "\n",
        "\n",
        "# Python 3.7+\n",
        "my_dict = {\"a\": 1, \"b\": 2, \"c\": 3}\n",
        "for key, value in my_dict.items():\n",
        "    print(f\"{key}: {value}\")\n",
        "# Output:\n",
        "# a: 1\n",
        "# b: 2\n",
        "# c: 3\n",
        "\n",
        "\n",
        "While dictionaries are now ordered, it's essential to remember that this is a relatively recent change, and older Python versions may still exhibit the unordered behavior."
      ],
      "metadata": {
        "id": "u2nqe4KWMr9e"
      }
    },
    {
      "cell_type": "code",
      "source": [
        "## QUES 20) Explain the difference between a list and a dictionary in terms of data retrieval."
      ],
      "metadata": {
        "id": "pORDBqFaM9hZ"
      },
      "execution_count": null,
      "outputs": []
    },
    {
      "cell_type": "markdown",
      "source": [
        "Lists and dictionaries are two fundamental data structures in Python, each with its own strengths and weaknesses when it comes to data retrieval.\n",
        "\n",
        "Lists\n",
        "Lists are ordered collections of values that can be of any data type, including strings, integers, floats, and other lists. When retrieving data from a list, you can use the following methods:\n",
        "\n",
        "1. Indexing: Access elements by their index (position in the list).\n",
        "2. Slicing: Extract a subset of elements using a range of indices.\n",
        "3. Iteration: Loop through the elements of the list using a for loop.\n",
        "\n",
        "Example:\n",
        "\n",
        "my_list = [1, 2, 3, 4, 5]\n",
        "\n",
        "# Indexing\n",
        "print(my_list[0])  # Output: 1\n",
        "\n",
        "# Slicing\n",
        "print(my_list[1:3])  # Output: [2, 3]\n",
        "\n",
        "# Iteration\n",
        "for element in my_list:\n",
        "    print(element)\n",
        "# Output:\n",
        "# 1\n",
        "# 2\n",
        "# 3\n",
        "# 4\n",
        "# 5\n",
        "\n",
        "\n",
        "Dictionaries\n",
        "Dictionaries are unordered collections of key-value pairs. When retrieving data from a dictionary, you can use the following methods:\n",
        "\n",
        "1. Key-based access: Access values by their corresponding keys.\n",
        "2. Iteration: Loop through the key-value pairs of the dictionary using a for loop.\n",
        "\n",
        "Example:\n",
        "\n",
        "my_dict = {\"a\": 1, \"b\": 2, \"c\": 3}\n",
        "\n",
        "# Key-based access\n",
        "print(my_dict[\"a\"])  # Output: 1\n",
        "\n",
        "# Iteration\n",
        "for key, value in my_dict.items():\n",
        "    print(f\"{key}: {value}\")\n",
        "# Output:\n",
        "# a: 1\n",
        "# b: 2\n",
        "# c: 3\n",
        "\n",
        "\n",
        "Key Differences\n",
        "Here are the main differences between lists and dictionaries in terms of data retrieval:\n",
        "\n",
        "1. Order: Lists are ordered, while dictionaries are unordered (prior to Python 3.7).\n",
        "2. Access methods: Lists support indexing and slicing, while dictionaries support key-based access.\n",
        "3. Data structure: Lists are suitable for storing collections of values, while dictionaries are ideal for storing key-value pairs.\n",
        "\n",
        "In summary, lists are suitable for situations where you need to store a collection of values and access them by their index or position. Dictionaries are ideal for situations where you need to store key-value pairs and access them by their key."
      ],
      "metadata": {
        "id": "8cx5jquCND9M"
      }
    },
    {
      "cell_type": "markdown",
      "source": [
        "PRACTICAL QUESTION"
      ],
      "metadata": {
        "id": "XUganfzwNQtK"
      }
    },
    {
      "cell_type": "code",
      "source": [
        "## QUES 1) Write a code to create a string with your name and print it.\n",
        "name = \"Copilot\"\n",
        "print(name)"
      ],
      "metadata": {
        "colab": {
          "base_uri": "https://localhost:8080/"
        },
        "id": "IMjwG_-FNbW0",
        "outputId": "73aa8f06-f2c5-44aa-c516-3fcdeda6bac2"
      },
      "execution_count": null,
      "outputs": [
        {
          "output_type": "stream",
          "name": "stdout",
          "text": [
            "Copilot\n"
          ]
        }
      ]
    },
    {
      "cell_type": "code",
      "source": [
        "## QUES 2) Write a code to find the length of the string \"Hello World\".\n",
        "text = \"Hello World\"\n",
        "length = len(text)\n",
        "print(f\"The length of '{text}' is {length}.\")"
      ],
      "metadata": {
        "colab": {
          "base_uri": "https://localhost:8080/"
        },
        "id": "UXyLmiJjN8Ky",
        "outputId": "dba0e321-dd22-4bef-e040-708914fd884d"
      },
      "execution_count": null,
      "outputs": [
        {
          "output_type": "stream",
          "name": "stdout",
          "text": [
            "The length of 'Hello World' is 11.\n"
          ]
        }
      ]
    },
    {
      "cell_type": "code",
      "source": [
        "## QUES 3) Write a code to slice the first 3 characters from the string \"Python Programming\".\n",
        "text = \"Python Programming\"\n",
        "first_three = text[:3]\n",
        "print(f\"The first three characters are: '{first_three}'\")\n"
      ],
      "metadata": {
        "colab": {
          "base_uri": "https://localhost:8080/"
        },
        "id": "8tqbpwaYOb_E",
        "outputId": "94581911-9dc6-4db7-d6e6-37185f541997"
      },
      "execution_count": null,
      "outputs": [
        {
          "output_type": "stream",
          "name": "stdout",
          "text": [
            "The first three characters are: 'Pyt'\n"
          ]
        }
      ]
    },
    {
      "cell_type": "code",
      "source": [
        "## QUES 4) Write a code to convert the string \"hello\" to uppercase.\n",
        "text = \"hello\"\n",
        "uppercase_text = text.upper()\n",
        "print(uppercase_text)\n"
      ],
      "metadata": {
        "colab": {
          "base_uri": "https://localhost:8080/"
        },
        "id": "AIAaYVpIPK5r",
        "outputId": "47dc284b-9662-4481-9514-eb7fb5ac54b2"
      },
      "execution_count": null,
      "outputs": [
        {
          "output_type": "stream",
          "name": "stdout",
          "text": [
            "HELLO\n"
          ]
        }
      ]
    },
    {
      "cell_type": "code",
      "source": [
        "## QUES 5) Write a code to replace the word \"apple\" with \"orange\" in the string \"I like apple\".\n",
        "text = \"I like apple\"\n",
        "new_text = text.replace(\"apple\", \"orange\")\n",
        "print(new_text)\n"
      ],
      "metadata": {
        "colab": {
          "base_uri": "https://localhost:8080/"
        },
        "id": "UA-yuUTCPlG6",
        "outputId": "614bd2e2-fdf4-45a9-946e-5cd13d9efc59"
      },
      "execution_count": null,
      "outputs": [
        {
          "output_type": "stream",
          "name": "stdout",
          "text": [
            "I like orange\n"
          ]
        }
      ]
    },
    {
      "cell_type": "code",
      "source": [
        "## QUES 6) Write a code to create a list with numbers 1 to 5 and print it.\n",
        "numbers = [1, 2, 3, 4, 5]\n",
        "print(numbers)\n"
      ],
      "metadata": {
        "colab": {
          "base_uri": "https://localhost:8080/"
        },
        "id": "Dnn7Bt3wP_oY",
        "outputId": "e05ce5a6-e313-4217-89d1-0430e4387d7b"
      },
      "execution_count": null,
      "outputs": [
        {
          "output_type": "stream",
          "name": "stdout",
          "text": [
            "[1, 2, 3, 4, 5]\n"
          ]
        }
      ]
    },
    {
      "cell_type": "code",
      "source": [
        "## QUES 7) Write a code to append the number 10 to the list [1, 2, 3, 4].\n",
        "numbers = [1, 2, 3, 4]\n",
        "numbers.append(10)\n",
        "print(numbers)\n"
      ],
      "metadata": {
        "colab": {
          "base_uri": "https://localhost:8080/"
        },
        "id": "3fMJFQySQlHg",
        "outputId": "e445ba03-0a5e-42e6-9736-e89adbe81a73"
      },
      "execution_count": null,
      "outputs": [
        {
          "output_type": "stream",
          "name": "stdout",
          "text": [
            "[1, 2, 3, 4, 10]\n"
          ]
        }
      ]
    },
    {
      "cell_type": "code",
      "source": [
        "## QUES 8) Write a code to remove the number 3 from the list [1, 2, 3, 4, 5].\n",
        "numbers = [1, 2, 3, 4, 5]\n",
        "numbers.remove(3)\n",
        "print(numbers)  # [1, 2, 4, 5]"
      ],
      "metadata": {
        "colab": {
          "base_uri": "https://localhost:8080/"
        },
        "id": "fU3MohmZRAeZ",
        "outputId": "b9b8dbe0-37c8-4c35-d859-02790b8a8e32"
      },
      "execution_count": null,
      "outputs": [
        {
          "output_type": "stream",
          "name": "stdout",
          "text": [
            "[1, 2, 4, 5]\n"
          ]
        }
      ]
    },
    {
      "cell_type": "code",
      "source": [
        "## QUES 9) Write a code to access the second element in the list ['a', 'b', 'c', 'd'].\n",
        "my_list = ['a', 'b', 'c', 'd']\n",
        "second_element = my_list[1]\n",
        "print(second_element)\n"
      ],
      "metadata": {
        "colab": {
          "base_uri": "https://localhost:8080/"
        },
        "id": "hNVLSWanRybJ",
        "outputId": "b1a9abf0-9891-4c5d-f4a2-1e57fc453fe8"
      },
      "execution_count": null,
      "outputs": [
        {
          "output_type": "stream",
          "name": "stdout",
          "text": [
            "b\n"
          ]
        }
      ]
    },
    {
      "cell_type": "code",
      "source": [
        "## QUES 10) Write a code to reverse the list [10, 20, 30, 40, 50].\n",
        "my_list = [10, 20, 30, 40, 50]\n",
        "reversed_list = my_list[::-1]\n",
        "print(reversed_list)\n"
      ],
      "metadata": {
        "colab": {
          "base_uri": "https://localhost:8080/"
        },
        "id": "EcW63Yv-SYcP",
        "outputId": "7327a2e9-c7a5-4625-87f9-2223bf2cd3bd"
      },
      "execution_count": null,
      "outputs": [
        {
          "output_type": "stream",
          "name": "stdout",
          "text": [
            "[50, 40, 30, 20, 10]\n"
          ]
        }
      ]
    },
    {
      "cell_type": "code",
      "source": [
        "## QUES 11) Write a code to create a tuple with the elements 100, 200, 300 and print it.\n",
        "my_tuple = (100, 200, 300)\n",
        "print(my_tuple)"
      ],
      "metadata": {
        "colab": {
          "base_uri": "https://localhost:8080/"
        },
        "id": "PcRDCnmJSlGa",
        "outputId": "1e07805a-f44a-4ae2-f286-aa52ec52df77"
      },
      "execution_count": null,
      "outputs": [
        {
          "output_type": "stream",
          "name": "stdout",
          "text": [
            "(100, 200, 300)\n"
          ]
        }
      ]
    },
    {
      "cell_type": "code",
      "source": [
        "## QUES 12) Write a code to access the second-to-last element of the tuple ('red', 'green', 'blue', 'yellow').\n",
        "my_tuple = ('red', 'green', 'blue', 'yellow')\n",
        "second_to_last_element = my_tuple[-2]\n",
        "print(second_to_last_element)\n"
      ],
      "metadata": {
        "colab": {
          "base_uri": "https://localhost:8080/"
        },
        "id": "OGJePbj9S9-P",
        "outputId": "41277a52-7e17-4a53-87b2-913a4d5b82fe"
      },
      "execution_count": null,
      "outputs": [
        {
          "output_type": "stream",
          "name": "stdout",
          "text": [
            "blue\n"
          ]
        }
      ]
    },
    {
      "cell_type": "code",
      "source": [
        "## QUES 13) Write a code to find the minimum number in the tuple (10, 20, 5, 15).\n",
        "my_tuple = (10, 20, 5, 15)\n",
        "min_number = min(my_tuple)\n",
        "print(min_number)\n"
      ],
      "metadata": {
        "colab": {
          "base_uri": "https://localhost:8080/"
        },
        "id": "7wvdIXOXTNww",
        "outputId": "ccbea26e-cea6-461b-9691-d021aa7f20f1"
      },
      "execution_count": null,
      "outputs": [
        {
          "output_type": "stream",
          "name": "stdout",
          "text": [
            "5\n"
          ]
        }
      ]
    },
    {
      "cell_type": "code",
      "source": [
        "## QUES 14) Write a code to find the index of the element \"cat\" in the tuple ('dog', 'cat', 'rabbit').\n",
        "my_tuple = ('dog', 'cat', 'rabbit')\n",
        "index_of_cat = my_tuple.index('cat')\n",
        "print(index_of_cat)\n"
      ],
      "metadata": {
        "colab": {
          "base_uri": "https://localhost:8080/"
        },
        "id": "ZdUQGMmGTbzu",
        "outputId": "f1a7152f-bdf8-43bf-f281-cde755f905ad"
      },
      "execution_count": null,
      "outputs": [
        {
          "output_type": "stream",
          "name": "stdout",
          "text": [
            "1\n"
          ]
        }
      ]
    },
    {
      "cell_type": "code",
      "source": [
        "## QUES 15) Write a code to create a tuple containing three different fruits and check if \"kiwi\" is in it.\n",
        "fruits_tuple = ('apple', 'banana', 'cherry')\n",
        "is_kiwi_present = 'kiwi' in fruits_tuple\n",
        "print(is_kiwi_present)\n",
        "\n"
      ],
      "metadata": {
        "colab": {
          "base_uri": "https://localhost:8080/"
        },
        "id": "DwkJg_9ITuXH",
        "outputId": "31bf6947-8757-45a9-fd0a-3f1dc1fd9b22"
      },
      "execution_count": null,
      "outputs": [
        {
          "output_type": "stream",
          "name": "stdout",
          "text": [
            "False\n"
          ]
        }
      ]
    },
    {
      "cell_type": "code",
      "source": [
        "## QUES 16)  Write a code to create a set with the elements 'a', 'b', 'c' and print it.\n",
        "my_set = {'a', 'b', 'c'}\n",
        "print(my_set)\n"
      ],
      "metadata": {
        "colab": {
          "base_uri": "https://localhost:8080/"
        },
        "id": "vU65l2VBUAW4",
        "outputId": "bb4d95ae-b0de-40ab-9d6a-4e682198b873"
      },
      "execution_count": null,
      "outputs": [
        {
          "output_type": "stream",
          "name": "stdout",
          "text": [
            "{'a', 'c', 'b'}\n"
          ]
        }
      ]
    },
    {
      "cell_type": "code",
      "source": [
        "## QUES 17) Write a code to clear all elements from the set {1, 2, 3, 4, 5}.\n",
        "my_set = {1, 2, 3, 4, 5}\n",
        "my_set.clear()\n",
        "print(my_set)\n"
      ],
      "metadata": {
        "colab": {
          "base_uri": "https://localhost:8080/"
        },
        "id": "oZLKxclDUTRs",
        "outputId": "309bca93-1aed-4a5c-84dd-d44c9c2251b0"
      },
      "execution_count": null,
      "outputs": [
        {
          "output_type": "stream",
          "name": "stdout",
          "text": [
            "set()\n"
          ]
        }
      ]
    },
    {
      "cell_type": "code",
      "source": [
        " ## QUES 18) Write a code to remove the element 4 from the set {1, 2, 3, 4}.\n",
        " my_set = {1, 2, 3, 4}\n",
        "my_set.remove(4)\n",
        "print(my_set)\n"
      ],
      "metadata": {
        "colab": {
          "base_uri": "https://localhost:8080/"
        },
        "id": "i9smRBjWUyfK",
        "outputId": "e6b2243c-25e1-43cc-8ef2-7136d16b4985"
      },
      "execution_count": null,
      "outputs": [
        {
          "output_type": "stream",
          "name": "stdout",
          "text": [
            "{1, 2, 3}\n"
          ]
        }
      ]
    },
    {
      "cell_type": "code",
      "source": [
        "## QUES 19)  Write a code to find the union of two sets {1, 2, 3} and {3, 4, 5}.\n",
        "set1 = {1, 2, 3}\n",
        "set2 = {3, 4, 5}\n",
        "union_set = set1.union(set2)\n",
        "print(union_set)\n"
      ],
      "metadata": {
        "colab": {
          "base_uri": "https://localhost:8080/"
        },
        "id": "UJTLnrtrVKof",
        "outputId": "04136a44-ced3-4bbb-f483-efa6a91d2a98"
      },
      "execution_count": null,
      "outputs": [
        {
          "output_type": "stream",
          "name": "stdout",
          "text": [
            "{1, 2, 3, 4, 5}\n"
          ]
        }
      ]
    },
    {
      "cell_type": "code",
      "source": [
        "## QUES 20) Write a code to find the intersection of two sets {1, 2, 3} and {2, 3, 4}.\n",
        "set1 = {1, 2, 3}\n",
        "set2 = {2, 3, 4}\n",
        "intersection_set = set1.intersection(set2)\n",
        "print(intersection_set)\n"
      ],
      "metadata": {
        "colab": {
          "base_uri": "https://localhost:8080/"
        },
        "id": "EMDGMY2cVe9i",
        "outputId": "ee57eb5d-e655-4be2-dd10-3be90b028752"
      },
      "execution_count": null,
      "outputs": [
        {
          "output_type": "stream",
          "name": "stdout",
          "text": [
            "{2, 3}\n"
          ]
        }
      ]
    },
    {
      "cell_type": "code",
      "source": [
        "## QUES 21) Write a code to create a dictionary with the keys \"name\", \"age\", and \"city\", and print it.\n",
        "my_dict = {\n",
        "    \"name\": \"John\",\n",
        "    \"age\": 25,\n",
        "    \"city\": \"New York\"\n",
        "}\n",
        "print(my_dict)\n"
      ],
      "metadata": {
        "colab": {
          "base_uri": "https://localhost:8080/"
        },
        "id": "UIeu_yYxVskV",
        "outputId": "2ffd9cdb-11bc-4598-969c-99bca074b0ae"
      },
      "execution_count": null,
      "outputs": [
        {
          "output_type": "stream",
          "name": "stdout",
          "text": [
            "{'name': 'John', 'age': 25, 'city': 'New York'}\n"
          ]
        }
      ]
    },
    {
      "cell_type": "code",
      "source": [
        "## QUES 22) Write a code to add a new key-value pair \"country\": \"USA\" to the dictionary {'name': 'John', 'age': 25}.\n",
        "my_dict = {'name': 'John', 'age': 25}\n",
        "my_dict['country'] = 'USA'\n",
        "print(my_dict)"
      ],
      "metadata": {
        "colab": {
          "base_uri": "https://localhost:8080/"
        },
        "id": "VmuaegCcWOSc",
        "outputId": "3fb0252b-debc-4891-f945-35be516f8908"
      },
      "execution_count": null,
      "outputs": [
        {
          "output_type": "stream",
          "name": "stdout",
          "text": [
            "{'name': 'John', 'age': 25, 'country': 'USA'}\n"
          ]
        }
      ]
    },
    {
      "cell_type": "code",
      "source": [
        "## QUES 23)  Write a code to access the value associated with the key \"name\" in the dictionary {'name': 'Alice', 'age': 30}.\n",
        "my_dict = {'name': 'Alice', 'age': 30}\n",
        "name_value = my_dict['name']\n",
        "print(name_value)\n"
      ],
      "metadata": {
        "colab": {
          "base_uri": "https://localhost:8080/"
        },
        "id": "n-0MtxMCWfJo",
        "outputId": "a6fc6b0d-52b0-42db-e5fd-4fb942f03245"
      },
      "execution_count": null,
      "outputs": [
        {
          "output_type": "stream",
          "name": "stdout",
          "text": [
            "Alice\n"
          ]
        }
      ]
    },
    {
      "cell_type": "code",
      "source": [
        "## QUES 24) Write a code to remove the key \"age\" from the dictionary {'name': 'Bob', 'age': 22, 'city': 'New York'}.\n",
        "my_dict = {'name': 'Bob', 'age': 22, 'city': 'New York'}\n",
        "del my_dict['age']\n",
        "print(my_dict)\n"
      ],
      "metadata": {
        "colab": {
          "base_uri": "https://localhost:8080/"
        },
        "id": "0b-IaZwkWsDg",
        "outputId": "ec743b22-f50a-41a7-b10d-174352ec11e0"
      },
      "execution_count": null,
      "outputs": [
        {
          "output_type": "stream",
          "name": "stdout",
          "text": [
            "{'name': 'Bob', 'city': 'New York'}\n"
          ]
        }
      ]
    },
    {
      "cell_type": "code",
      "source": [
        "## QUES 25) Write a code to check if the key \"city\" exists in the dictionary {'name': 'Alice', 'city': 'Paris'}.\n",
        "my_dict = {'name': 'Alice', 'city': 'Paris'}\n",
        "if 'city' in my_dict:\n",
        "    print(\"The key 'city' exists in the dictionary.\")\n",
        "else:\n",
        "    print(\"The key 'city' does not exist in the dictionary.\")\n"
      ],
      "metadata": {
        "colab": {
          "base_uri": "https://localhost:8080/"
        },
        "id": "SkGYSNz8W3vk",
        "outputId": "e469bf74-2a3d-455e-c77e-2f3c9066b122"
      },
      "execution_count": null,
      "outputs": [
        {
          "output_type": "stream",
          "name": "stdout",
          "text": [
            "The key 'city' exists in the dictionary.\n"
          ]
        }
      ]
    },
    {
      "cell_type": "code",
      "source": [
        "## QUES 26) Write a code to create a list, a tuple, and a dictionary, and print them all.\n",
        "# Creating a list\n",
        "my_list = [1, 2, 3, 4, 5]\n",
        "# Creating a tuple\n",
        "my_tuple = (10, 20, 30, 40, 50)\n",
        "# Creating a dictionary\n",
        "my_dict = {'name': 'Alice', 'age': 30, 'city': 'Paris'}\n",
        "\n",
        "# Printing the list, tuple, and dictionary\n",
        "print(\"List:\", my_list)\n",
        "print(\"Tuple:\", my_tuple)\n",
        "print(\"Dictionary:\", my_dict)\n"
      ],
      "metadata": {
        "colab": {
          "base_uri": "https://localhost:8080/"
        },
        "id": "Z0Q80HDBW_Oq",
        "outputId": "3a95a837-5be6-4a73-8fc3-3417bbaf8c7b"
      },
      "execution_count": null,
      "outputs": [
        {
          "output_type": "stream",
          "name": "stdout",
          "text": [
            "List: [1, 2, 3, 4, 5]\n",
            "Tuple: (10, 20, 30, 40, 50)\n",
            "Dictionary: {'name': 'Alice', 'age': 30, 'city': 'Paris'}\n"
          ]
        }
      ]
    },
    {
      "cell_type": "code",
      "source": [
        "## QUES 27) Write a code to create a list of 5 random numbers between 1 and 100, sort it in ascending order, and print the\n",
        "# result.(replaced)\n",
        "import random\n",
        "\n",
        "# Create a list of 5 random numbers between 1 and 100\n",
        "random_numbers = random.sample(range(1, 101), 5)\n",
        "\n",
        "# Sort the list in ascending order\n",
        "sorted_numbers = sorted(random_numbers)\n",
        "\n",
        "# Print the sorted list\n",
        "print(\"Sorted list:\", sorted_numbers)\n",
        "\n"
      ],
      "metadata": {
        "colab": {
          "base_uri": "https://localhost:8080/"
        },
        "id": "ESIvdFWbXalD",
        "outputId": "bdbe088e-fb92-4bc8-8363-485b964f957e"
      },
      "execution_count": null,
      "outputs": [
        {
          "output_type": "stream",
          "name": "stdout",
          "text": [
            "Sorted list: [38, 42, 56, 86, 94]\n"
          ]
        }
      ]
    },
    {
      "cell_type": "code",
      "source": [
        "## QUES 28) Write a code to create a list with strings and print the element at the third index.\n",
        "my_list = ['apple', 'banana', 'cherry', 'date', 'elderberry']\n",
        "third_index_element = my_list[3]\n",
        "print(third_index_element)"
      ],
      "metadata": {
        "colab": {
          "base_uri": "https://localhost:8080/"
        },
        "id": "WedGhaKTX0A8",
        "outputId": "ff2f12e3-52fd-40d1-a487-67ef0bf7fc68"
      },
      "execution_count": null,
      "outputs": [
        {
          "output_type": "stream",
          "name": "stdout",
          "text": [
            "date\n"
          ]
        }
      ]
    },
    {
      "cell_type": "code",
      "source": [
        "## QUES 29) Write a code to combine two dictionaries into one and print the result.\n",
        "dict1 = {'name': 'Alice', 'age': 30}\n",
        "dict2 = {'city': 'Paris', 'country': 'France'}\n",
        "\n",
        "# Combine the two dictionaries\n",
        "combined_dict = {**dict1, **dict2}\n",
        "\n",
        "# Print the combined dictionary\n",
        "print(combined_dict)\n"
      ],
      "metadata": {
        "colab": {
          "base_uri": "https://localhost:8080/"
        },
        "id": "DFAjujCYYFTs",
        "outputId": "e116c6c5-5dad-4465-c8ec-2f018ee2c995"
      },
      "execution_count": null,
      "outputs": [
        {
          "output_type": "stream",
          "name": "stdout",
          "text": [
            "{'name': 'Alice', 'age': 30, 'city': 'Paris', 'country': 'France'}\n"
          ]
        }
      ]
    },
    {
      "cell_type": "code",
      "source": [
        "## QUES 30) Write a code to convert a list of strings into a set.\n",
        "my_list = ['apple', 'banana', 'cherry', 'apple']\n",
        "my_set = set(my_list)\n",
        "print(my_set)\n",
        "\n"
      ],
      "metadata": {
        "colab": {
          "base_uri": "https://localhost:8080/"
        },
        "id": "R39mn5zgYTP1",
        "outputId": "e5d704c6-2be8-4668-fd07-85873edce40b"
      },
      "execution_count": null,
      "outputs": [
        {
          "output_type": "stream",
          "name": "stdout",
          "text": [
            "{'banana', 'cherry', 'apple'}\n"
          ]
        }
      ]
    }
  ]
}